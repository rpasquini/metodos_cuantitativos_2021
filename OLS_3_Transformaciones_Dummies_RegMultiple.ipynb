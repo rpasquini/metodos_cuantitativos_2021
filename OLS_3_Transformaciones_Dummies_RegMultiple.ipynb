{
  "nbformat": 4,
  "nbformat_minor": 0,
  "metadata": {
    "colab": {
      "name": "OLS 3  Transformaciones Dummies RegMultiple.ipynb",
      "provenance": [],
      "authorship_tag": "ABX9TyPj77gldSYACSdPB3/lsXRG",
      "include_colab_link": true
    },
    "kernelspec": {
      "name": "python3",
      "display_name": "Python 3"
    }
  },
  "cells": [
    {
      "cell_type": "markdown",
      "metadata": {
        "id": "view-in-github",
        "colab_type": "text"
      },
      "source": [
        "<a href=\"https://colab.research.google.com/github/rpasquini/metodos_cuantitativos_2021/blob/main/OLS_3_Transformaciones_Dummies_RegMultiple.ipynb\" target=\"_parent\"><img src=\"https://colab.research.google.com/assets/colab-badge.svg\" alt=\"Open In Colab\"/></a>"
      ]
    },
    {
      "cell_type": "markdown",
      "metadata": {
        "id": "C_-V1RftUVBd"
      },
      "source": [
        "_author: Ricardo Pasquini (rpasquini@gmail.com)"
      ]
    },
    {
      "cell_type": "markdown",
      "metadata": {
        "id": "DFnL5IYFUy50"
      },
      "source": [
        "En este notebook evaluaremos la transformación de la variable a explicar (transformación logarítmica), y exploraremos los efectos de la inclusión de variables explicativas adicionales. "
      ]
    },
    {
      "cell_type": "markdown",
      "metadata": {
        "id": "Z9btYszcZQUG"
      },
      "source": [
        "# Instalacion e Importacion de Librerias\n",
        "\n"
      ]
    },
    {
      "cell_type": "code",
      "metadata": {
        "id": "SxZmS_w7V6Vf",
        "colab": {
          "base_uri": "https://localhost:8080/"
        },
        "outputId": "50d9cbfa-1117-430c-c2da-573918a5adff"
      },
      "source": [
        "!pip install geopandas"
      ],
      "execution_count": 3,
      "outputs": [
        {
          "output_type": "stream",
          "text": [
            "Collecting geopandas\n",
            "\u001b[?25l  Downloading https://files.pythonhosted.org/packages/d7/bf/e9cefb69d39155d122b6ddca53893b61535fa6ffdad70bf5ef708977f53f/geopandas-0.9.0-py2.py3-none-any.whl (994kB)\n",
            "\r\u001b[K     |▎                               | 10kB 15.1MB/s eta 0:00:01\r\u001b[K     |▋                               | 20kB 21.3MB/s eta 0:00:01\r\u001b[K     |█                               | 30kB 20.3MB/s eta 0:00:01\r\u001b[K     |█▎                              | 40kB 15.8MB/s eta 0:00:01\r\u001b[K     |█▋                              | 51kB 7.6MB/s eta 0:00:01\r\u001b[K     |██                              | 61kB 8.8MB/s eta 0:00:01\r\u001b[K     |██▎                             | 71kB 8.5MB/s eta 0:00:01\r\u001b[K     |██▋                             | 81kB 9.4MB/s eta 0:00:01\r\u001b[K     |███                             | 92kB 9.8MB/s eta 0:00:01\r\u001b[K     |███▎                            | 102kB 8.0MB/s eta 0:00:01\r\u001b[K     |███▋                            | 112kB 8.0MB/s eta 0:00:01\r\u001b[K     |████                            | 122kB 8.0MB/s eta 0:00:01\r\u001b[K     |████▎                           | 133kB 8.0MB/s eta 0:00:01\r\u001b[K     |████▋                           | 143kB 8.0MB/s eta 0:00:01\r\u001b[K     |█████                           | 153kB 8.0MB/s eta 0:00:01\r\u001b[K     |█████▎                          | 163kB 8.0MB/s eta 0:00:01\r\u001b[K     |█████▋                          | 174kB 8.0MB/s eta 0:00:01\r\u001b[K     |██████                          | 184kB 8.0MB/s eta 0:00:01\r\u001b[K     |██████▎                         | 194kB 8.0MB/s eta 0:00:01\r\u001b[K     |██████▋                         | 204kB 8.0MB/s eta 0:00:01\r\u001b[K     |███████                         | 215kB 8.0MB/s eta 0:00:01\r\u001b[K     |███████▎                        | 225kB 8.0MB/s eta 0:00:01\r\u001b[K     |███████▋                        | 235kB 8.0MB/s eta 0:00:01\r\u001b[K     |████████                        | 245kB 8.0MB/s eta 0:00:01\r\u001b[K     |████████▎                       | 256kB 8.0MB/s eta 0:00:01\r\u001b[K     |████████▋                       | 266kB 8.0MB/s eta 0:00:01\r\u001b[K     |█████████                       | 276kB 8.0MB/s eta 0:00:01\r\u001b[K     |█████████▎                      | 286kB 8.0MB/s eta 0:00:01\r\u001b[K     |█████████▌                      | 296kB 8.0MB/s eta 0:00:01\r\u001b[K     |█████████▉                      | 307kB 8.0MB/s eta 0:00:01\r\u001b[K     |██████████▏                     | 317kB 8.0MB/s eta 0:00:01\r\u001b[K     |██████████▌                     | 327kB 8.0MB/s eta 0:00:01\r\u001b[K     |██████████▉                     | 337kB 8.0MB/s eta 0:00:01\r\u001b[K     |███████████▏                    | 348kB 8.0MB/s eta 0:00:01\r\u001b[K     |███████████▌                    | 358kB 8.0MB/s eta 0:00:01\r\u001b[K     |███████████▉                    | 368kB 8.0MB/s eta 0:00:01\r\u001b[K     |████████████▏                   | 378kB 8.0MB/s eta 0:00:01\r\u001b[K     |████████████▌                   | 389kB 8.0MB/s eta 0:00:01\r\u001b[K     |████████████▉                   | 399kB 8.0MB/s eta 0:00:01\r\u001b[K     |█████████████▏                  | 409kB 8.0MB/s eta 0:00:01\r\u001b[K     |█████████████▌                  | 419kB 8.0MB/s eta 0:00:01\r\u001b[K     |█████████████▉                  | 430kB 8.0MB/s eta 0:00:01\r\u001b[K     |██████████████▏                 | 440kB 8.0MB/s eta 0:00:01\r\u001b[K     |██████████████▌                 | 450kB 8.0MB/s eta 0:00:01\r\u001b[K     |██████████████▉                 | 460kB 8.0MB/s eta 0:00:01\r\u001b[K     |███████████████▏                | 471kB 8.0MB/s eta 0:00:01\r\u001b[K     |███████████████▌                | 481kB 8.0MB/s eta 0:00:01\r\u001b[K     |███████████████▉                | 491kB 8.0MB/s eta 0:00:01\r\u001b[K     |████████████████▏               | 501kB 8.0MB/s eta 0:00:01\r\u001b[K     |████████████████▌               | 512kB 8.0MB/s eta 0:00:01\r\u001b[K     |████████████████▉               | 522kB 8.0MB/s eta 0:00:01\r\u001b[K     |█████████████████▏              | 532kB 8.0MB/s eta 0:00:01\r\u001b[K     |█████████████████▌              | 542kB 8.0MB/s eta 0:00:01\r\u001b[K     |█████████████████▉              | 552kB 8.0MB/s eta 0:00:01\r\u001b[K     |██████████████████▏             | 563kB 8.0MB/s eta 0:00:01\r\u001b[K     |██████████████████▌             | 573kB 8.0MB/s eta 0:00:01\r\u001b[K     |██████████████████▊             | 583kB 8.0MB/s eta 0:00:01\r\u001b[K     |███████████████████             | 593kB 8.0MB/s eta 0:00:01\r\u001b[K     |███████████████████▍            | 604kB 8.0MB/s eta 0:00:01\r\u001b[K     |███████████████████▊            | 614kB 8.0MB/s eta 0:00:01\r\u001b[K     |████████████████████            | 624kB 8.0MB/s eta 0:00:01\r\u001b[K     |████████████████████▍           | 634kB 8.0MB/s eta 0:00:01\r\u001b[K     |████████████████████▊           | 645kB 8.0MB/s eta 0:00:01\r\u001b[K     |█████████████████████           | 655kB 8.0MB/s eta 0:00:01\r\u001b[K     |█████████████████████▍          | 665kB 8.0MB/s eta 0:00:01\r\u001b[K     |█████████████████████▊          | 675kB 8.0MB/s eta 0:00:01\r\u001b[K     |██████████████████████          | 686kB 8.0MB/s eta 0:00:01\r\u001b[K     |██████████████████████▍         | 696kB 8.0MB/s eta 0:00:01\r\u001b[K     |██████████████████████▊         | 706kB 8.0MB/s eta 0:00:01\r\u001b[K     |███████████████████████         | 716kB 8.0MB/s eta 0:00:01\r\u001b[K     |███████████████████████▍        | 727kB 8.0MB/s eta 0:00:01\r\u001b[K     |███████████████████████▊        | 737kB 8.0MB/s eta 0:00:01\r\u001b[K     |████████████████████████        | 747kB 8.0MB/s eta 0:00:01\r\u001b[K     |████████████████████████▍       | 757kB 8.0MB/s eta 0:00:01\r\u001b[K     |████████████████████████▊       | 768kB 8.0MB/s eta 0:00:01\r\u001b[K     |█████████████████████████       | 778kB 8.0MB/s eta 0:00:01\r\u001b[K     |█████████████████████████▍      | 788kB 8.0MB/s eta 0:00:01\r\u001b[K     |█████████████████████████▊      | 798kB 8.0MB/s eta 0:00:01\r\u001b[K     |██████████████████████████      | 808kB 8.0MB/s eta 0:00:01\r\u001b[K     |██████████████████████████▍     | 819kB 8.0MB/s eta 0:00:01\r\u001b[K     |██████████████████████████▊     | 829kB 8.0MB/s eta 0:00:01\r\u001b[K     |███████████████████████████     | 839kB 8.0MB/s eta 0:00:01\r\u001b[K     |███████████████████████████▍    | 849kB 8.0MB/s eta 0:00:01\r\u001b[K     |███████████████████████████▊    | 860kB 8.0MB/s eta 0:00:01\r\u001b[K     |████████████████████████████    | 870kB 8.0MB/s eta 0:00:01\r\u001b[K     |████████████████████████████▎   | 880kB 8.0MB/s eta 0:00:01\r\u001b[K     |████████████████████████████▋   | 890kB 8.0MB/s eta 0:00:01\r\u001b[K     |█████████████████████████████   | 901kB 8.0MB/s eta 0:00:01\r\u001b[K     |█████████████████████████████▎  | 911kB 8.0MB/s eta 0:00:01\r\u001b[K     |█████████████████████████████▋  | 921kB 8.0MB/s eta 0:00:01\r\u001b[K     |██████████████████████████████  | 931kB 8.0MB/s eta 0:00:01\r\u001b[K     |██████████████████████████████▎ | 942kB 8.0MB/s eta 0:00:01\r\u001b[K     |██████████████████████████████▋ | 952kB 8.0MB/s eta 0:00:01\r\u001b[K     |███████████████████████████████ | 962kB 8.0MB/s eta 0:00:01\r\u001b[K     |███████████████████████████████▎| 972kB 8.0MB/s eta 0:00:01\r\u001b[K     |███████████████████████████████▋| 983kB 8.0MB/s eta 0:00:01\r\u001b[K     |████████████████████████████████| 993kB 8.0MB/s eta 0:00:01\r\u001b[K     |████████████████████████████████| 1.0MB 8.0MB/s \n",
            "\u001b[?25hRequirement already satisfied: shapely>=1.6 in /usr/local/lib/python3.7/dist-packages (from geopandas) (1.7.1)\n",
            "Collecting pyproj>=2.2.0\n",
            "\u001b[?25l  Downloading https://files.pythonhosted.org/packages/11/1d/1c54c672c2faf08d28fe78e15d664c048f786225bef95ad87b6c435cf69e/pyproj-3.1.0-cp37-cp37m-manylinux2010_x86_64.whl (6.6MB)\n",
            "\u001b[K     |████████████████████████████████| 6.6MB 27.4MB/s \n",
            "\u001b[?25hRequirement already satisfied: pandas>=0.24.0 in /usr/local/lib/python3.7/dist-packages (from geopandas) (1.1.5)\n",
            "Collecting fiona>=1.8\n",
            "\u001b[?25l  Downloading https://files.pythonhosted.org/packages/9c/fc/9807326c37a6bfb2393ae3e1cca147aa74844562c4d5daa782d6e97ad2bc/Fiona-1.8.20-cp37-cp37m-manylinux1_x86_64.whl (15.4MB)\n",
            "\u001b[K     |████████████████████████████████| 15.4MB 185kB/s \n",
            "\u001b[?25hRequirement already satisfied: certifi in /usr/local/lib/python3.7/dist-packages (from pyproj>=2.2.0->geopandas) (2021.5.30)\n",
            "Requirement already satisfied: numpy>=1.15.4 in /usr/local/lib/python3.7/dist-packages (from pandas>=0.24.0->geopandas) (1.19.5)\n",
            "Requirement already satisfied: python-dateutil>=2.7.3 in /usr/local/lib/python3.7/dist-packages (from pandas>=0.24.0->geopandas) (2.8.1)\n",
            "Requirement already satisfied: pytz>=2017.2 in /usr/local/lib/python3.7/dist-packages (from pandas>=0.24.0->geopandas) (2018.9)\n",
            "Collecting cligj>=0.5\n",
            "  Downloading https://files.pythonhosted.org/packages/73/86/43fa9f15c5b9fb6e82620428827cd3c284aa933431405d1bcf5231ae3d3e/cligj-0.7.2-py3-none-any.whl\n",
            "Requirement already satisfied: click>=4.0 in /usr/local/lib/python3.7/dist-packages (from fiona>=1.8->geopandas) (7.1.2)\n",
            "Requirement already satisfied: six>=1.7 in /usr/local/lib/python3.7/dist-packages (from fiona>=1.8->geopandas) (1.15.0)\n",
            "Requirement already satisfied: setuptools in /usr/local/lib/python3.7/dist-packages (from fiona>=1.8->geopandas) (57.0.0)\n",
            "Collecting click-plugins>=1.0\n",
            "  Downloading https://files.pythonhosted.org/packages/e9/da/824b92d9942f4e472702488857914bdd50f73021efea15b4cad9aca8ecef/click_plugins-1.1.1-py2.py3-none-any.whl\n",
            "Collecting munch\n",
            "  Downloading https://files.pythonhosted.org/packages/cc/ab/85d8da5c9a45e072301beb37ad7f833cd344e04c817d97e0cc75681d248f/munch-2.5.0-py2.py3-none-any.whl\n",
            "Requirement already satisfied: attrs>=17 in /usr/local/lib/python3.7/dist-packages (from fiona>=1.8->geopandas) (21.2.0)\n",
            "Installing collected packages: pyproj, cligj, click-plugins, munch, fiona, geopandas\n",
            "Successfully installed click-plugins-1.1.1 cligj-0.7.2 fiona-1.8.20 geopandas-0.9.0 munch-2.5.0 pyproj-3.1.0\n"
          ],
          "name": "stdout"
        }
      ]
    },
    {
      "cell_type": "code",
      "metadata": {
        "id": "LCcoP1VK-HLp",
        "colab": {
          "base_uri": "https://localhost:8080/"
        },
        "outputId": "c436361c-23bd-46ad-9d05-ebcee1594641"
      },
      "source": [
        "import geopandas as gpd\n",
        "import pandas as pd\n",
        "import statsmodels.api as sm\n",
        "import matplotlib.pyplot as plt\n",
        "import numpy as np   #libreria con operaciones matematicas"
      ],
      "execution_count": 4,
      "outputs": [
        {
          "output_type": "stream",
          "text": [
            "/usr/local/lib/python3.7/dist-packages/statsmodels/tools/_testing.py:19: FutureWarning: pandas.util.testing is deprecated. Use the functions in the public API at pandas.testing instead.\n",
            "  import pandas.util.testing as tm\n"
          ],
          "name": "stderr"
        }
      ]
    },
    {
      "cell_type": "code",
      "metadata": {
        "id": "kw48nIz4COfL"
      },
      "source": [
        "departamentos=gpd.GeoDataFrame.from_file(\"https://github.com/rpasquini/urban-econometrics/blob/master/data/departamentos2019amba.zip?raw=true\")"
      ],
      "execution_count": 5,
      "outputs": []
    },
    {
      "cell_type": "code",
      "metadata": {
        "id": "14dk5Wf0dKB1",
        "colab": {
          "base_uri": "https://localhost:8080/",
          "height": 481
        },
        "outputId": "5884cb65-0009-4bbc-fba7-6bbf9b34ef06"
      },
      "source": [
        "departamentos.head()"
      ],
      "execution_count": 6,
      "outputs": [
        {
          "output_type": "execute_result",
          "data": {
            "text/html": [
              "<div>\n",
              "<style scoped>\n",
              "    .dataframe tbody tr th:only-of-type {\n",
              "        vertical-align: middle;\n",
              "    }\n",
              "\n",
              "    .dataframe tbody tr th {\n",
              "        vertical-align: top;\n",
              "    }\n",
              "\n",
              "    .dataframe thead th {\n",
              "        text-align: right;\n",
              "    }\n",
              "</style>\n",
              "<table border=\"1\" class=\"dataframe\">\n",
              "  <thead>\n",
              "    <tr style=\"text-align: right;\">\n",
              "      <th></th>\n",
              "      <th>bathrooms</th>\n",
              "      <th>bedrooms</th>\n",
              "      <th>country</th>\n",
              "      <th>created_on</th>\n",
              "      <th>currency</th>\n",
              "      <th>descriptio</th>\n",
              "      <th>developmen</th>\n",
              "      <th>end_date</th>\n",
              "      <th>index</th>\n",
              "      <th>l1</th>\n",
              "      <th>l2</th>\n",
              "      <th>l3</th>\n",
              "      <th>l4</th>\n",
              "      <th>l5</th>\n",
              "      <th>l6</th>\n",
              "      <th>lat</th>\n",
              "      <th>lon</th>\n",
              "      <th>operation</th>\n",
              "      <th>operation_</th>\n",
              "      <th>price</th>\n",
              "      <th>price_peri</th>\n",
              "      <th>rooms</th>\n",
              "      <th>start_date</th>\n",
              "      <th>surface_co</th>\n",
              "      <th>surface_to</th>\n",
              "      <th>title</th>\n",
              "      <th>type</th>\n",
              "      <th>type_i18n</th>\n",
              "      <th>geometry</th>\n",
              "    </tr>\n",
              "  </thead>\n",
              "  <tbody>\n",
              "    <tr>\n",
              "      <th>0</th>\n",
              "      <td>1.0</td>\n",
              "      <td>1.0</td>\n",
              "      <td>Argentina</td>\n",
              "      <td>2019-09-26</td>\n",
              "      <td>ARS</td>\n",
              "      <td>b'CODIGO: 1819-CRI180 ubicado en: Av. Callao 1...</td>\n",
              "      <td>None</td>\n",
              "      <td>2019-10-10</td>\n",
              "      <td>0</td>\n",
              "      <td>Argentina</td>\n",
              "      <td>Capital Federal</td>\n",
              "      <td>Recoleta</td>\n",
              "      <td>None</td>\n",
              "      <td>None</td>\n",
              "      <td>None</td>\n",
              "      <td>-34.588601</td>\n",
              "      <td>-58.388285</td>\n",
              "      <td>Alquiler</td>\n",
              "      <td>Alquiler</td>\n",
              "      <td>18000</td>\n",
              "      <td>Mensual</td>\n",
              "      <td>NaN</td>\n",
              "      <td>2019-09-26</td>\n",
              "      <td>52</td>\n",
              "      <td>58</td>\n",
              "      <td>b'Recoleta. Av. Callao y Av. Alvear. Piso alto...</td>\n",
              "      <td>Departamento</td>\n",
              "      <td>Departamento</td>\n",
              "      <td>POINT (106827.294 104558.628)</td>\n",
              "    </tr>\n",
              "    <tr>\n",
              "      <th>1</th>\n",
              "      <td>3.0</td>\n",
              "      <td>NaN</td>\n",
              "      <td>Argentina</td>\n",
              "      <td>2019-09-26</td>\n",
              "      <td>ARS</td>\n",
              "      <td>b'Residencia de estudiantes y viajeros. Son do...</td>\n",
              "      <td>None</td>\n",
              "      <td>2019-11-04</td>\n",
              "      <td>1</td>\n",
              "      <td>Argentina</td>\n",
              "      <td>Capital Federal</td>\n",
              "      <td>Balvanera</td>\n",
              "      <td>None</td>\n",
              "      <td>None</td>\n",
              "      <td>None</td>\n",
              "      <td>-34.606939</td>\n",
              "      <td>-58.393496</td>\n",
              "      <td>Alquiler</td>\n",
              "      <td>Alquiler</td>\n",
              "      <td>45000</td>\n",
              "      <td>Mensual</td>\n",
              "      <td>NaN</td>\n",
              "      <td>2019-09-26</td>\n",
              "      <td>219</td>\n",
              "      <td>219</td>\n",
              "      <td>Departamento - Balvanera</td>\n",
              "      <td>Departamento</td>\n",
              "      <td>Departamento</td>\n",
              "      <td>POINT (106347.880 102524.692)</td>\n",
              "    </tr>\n",
              "    <tr>\n",
              "      <th>2</th>\n",
              "      <td>1.0</td>\n",
              "      <td>2.0</td>\n",
              "      <td>Argentina</td>\n",
              "      <td>2019-09-26</td>\n",
              "      <td>ARS</td>\n",
              "      <td>b'CODIGO: 1348-AF021227 ubicado en: Tacuari 26...</td>\n",
              "      <td>None</td>\n",
              "      <td>2019-09-28</td>\n",
              "      <td>2</td>\n",
              "      <td>Argentina</td>\n",
              "      <td>Capital Federal</td>\n",
              "      <td>Monserrat</td>\n",
              "      <td>None</td>\n",
              "      <td>None</td>\n",
              "      <td>None</td>\n",
              "      <td>-34.611352</td>\n",
              "      <td>-58.379205</td>\n",
              "      <td>Alquiler</td>\n",
              "      <td>Alquiler</td>\n",
              "      <td>18500</td>\n",
              "      <td>Mensual</td>\n",
              "      <td>NaN</td>\n",
              "      <td>2019-09-26</td>\n",
              "      <td>61</td>\n",
              "      <td>67</td>\n",
              "      <td>3 ambientes con patio 61 m2 propios bajas expe...</td>\n",
              "      <td>Departamento</td>\n",
              "      <td>Departamento</td>\n",
              "      <td>POINT (107658.254 102034.095)</td>\n",
              "    </tr>\n",
              "    <tr>\n",
              "      <th>3</th>\n",
              "      <td>NaN</td>\n",
              "      <td>NaN</td>\n",
              "      <td>Argentina</td>\n",
              "      <td>2019-09-26</td>\n",
              "      <td>ARS</td>\n",
              "      <td>b'Departamento de dos ambientes a 200 metros d...</td>\n",
              "      <td>None</td>\n",
              "      <td>2020-02-12</td>\n",
              "      <td>4</td>\n",
              "      <td>Argentina</td>\n",
              "      <td>Bs.As. G.B.A. Zona Oeste</td>\n",
              "      <td>La Matanza</td>\n",
              "      <td>San Justo</td>\n",
              "      <td>None</td>\n",
              "      <td>None</td>\n",
              "      <td>-34.680777</td>\n",
              "      <td>-58.553166</td>\n",
              "      <td>Alquiler</td>\n",
              "      <td>Alquiler</td>\n",
              "      <td>11000</td>\n",
              "      <td>Mensual</td>\n",
              "      <td>NaN</td>\n",
              "      <td>2019-09-26</td>\n",
              "      <td>38</td>\n",
              "      <td>38</td>\n",
              "      <td>Departamento - San Justo</td>\n",
              "      <td>Departamento</td>\n",
              "      <td>Departamento</td>\n",
              "      <td>POINT (91709.240 94331.755)</td>\n",
              "    </tr>\n",
              "    <tr>\n",
              "      <th>4</th>\n",
              "      <td>1.0</td>\n",
              "      <td>1.0</td>\n",
              "      <td>Argentina</td>\n",
              "      <td>2019-09-26</td>\n",
              "      <td>ARS</td>\n",
              "      <td>b'CODIGO: 733-1600MARIANOA ubicado en: MARIANO...</td>\n",
              "      <td>None</td>\n",
              "      <td>2019-11-10</td>\n",
              "      <td>5</td>\n",
              "      <td>Argentina</td>\n",
              "      <td>Capital Federal</td>\n",
              "      <td>Villa Urquiza</td>\n",
              "      <td>None</td>\n",
              "      <td>None</td>\n",
              "      <td>None</td>\n",
              "      <td>-34.577983</td>\n",
              "      <td>-58.472185</td>\n",
              "      <td>Alquiler</td>\n",
              "      <td>Alquiler</td>\n",
              "      <td>18500</td>\n",
              "      <td>Mensual</td>\n",
              "      <td>NaN</td>\n",
              "      <td>2019-09-26</td>\n",
              "      <td>39</td>\n",
              "      <td>49</td>\n",
              "      <td>EXCELENTE DEPARTAMENTO 2 AMB CON PATIO 49 MTS ...</td>\n",
              "      <td>Departamento</td>\n",
              "      <td>Departamento</td>\n",
              "      <td>POINT (99129.692 105739.092)</td>\n",
              "    </tr>\n",
              "  </tbody>\n",
              "</table>\n",
              "</div>"
            ],
            "text/plain": [
              "   bathrooms  bedrooms  ...     type_i18n                       geometry\n",
              "0        1.0       1.0  ...  Departamento  POINT (106827.294 104558.628)\n",
              "1        3.0       NaN  ...  Departamento  POINT (106347.880 102524.692)\n",
              "2        1.0       2.0  ...  Departamento  POINT (107658.254 102034.095)\n",
              "3        NaN       NaN  ...  Departamento    POINT (91709.240 94331.755)\n",
              "4        1.0       1.0  ...  Departamento   POINT (99129.692 105739.092)\n",
              "\n",
              "[5 rows x 29 columns]"
            ]
          },
          "metadata": {
            "tags": []
          },
          "execution_count": 6
        }
      ]
    },
    {
      "cell_type": "markdown",
      "metadata": {
        "id": "nMy_o6UyZZHc"
      },
      "source": [
        "# OLS\n",
        "\n",
        "Modelo:\n",
        "\n",
        "$price_i=\\beta_0+\\beta_1*bedrooms_i+\\epsilon_i$\n"
      ]
    },
    {
      "cell_type": "code",
      "metadata": {
        "id": "pIpcXbVnCQzg"
      },
      "source": [
        "datos=departamentos[['price', 'bedrooms']]\n",
        "# el metodo dropna() me permite eliminar las filas que tienen algun valor missing\n",
        "datos=datos.dropna()\n",
        "Y=datos.price\n",
        "X=datos.bedrooms\n",
        "X=sm.add_constant(X)"
      ],
      "execution_count": 7,
      "outputs": []
    },
    {
      "cell_type": "code",
      "metadata": {
        "id": "O9VZMBSgY3tv",
        "colab": {
          "base_uri": "https://localhost:8080/"
        },
        "outputId": "70e98a85-2514-41d7-f01f-a35d84726913"
      },
      "source": [
        "modelo=sm.OLS(Y,X)\n",
        "resultados=modelo.fit()\n",
        "print(resultados.summary())"
      ],
      "execution_count": 8,
      "outputs": [
        {
          "output_type": "stream",
          "text": [
            "                            OLS Regression Results                            \n",
            "==============================================================================\n",
            "Dep. Variable:                  price   R-squared:                       0.049\n",
            "Model:                            OLS   Adj. R-squared:                  0.049\n",
            "Method:                 Least Squares   F-statistic:                     1443.\n",
            "Date:                Thu, 08 Jul 2021   Prob (F-statistic):          7.68e-308\n",
            "Time:                        20:39:52   Log-Likelihood:            -3.0876e+05\n",
            "No. Observations:               27879   AIC:                         6.175e+05\n",
            "Df Residuals:                   27877   BIC:                         6.175e+05\n",
            "Df Model:                           1                                         \n",
            "Covariance Type:            nonrobust                                         \n",
            "==============================================================================\n",
            "                 coef    std err          t      P>|t|      [0.025      0.975]\n",
            "------------------------------------------------------------------------------\n",
            "const       1.151e+04    205.145     56.088      0.000    1.11e+04    1.19e+04\n",
            "bedrooms    4253.5067    111.984     37.983      0.000    4034.013    4473.000\n",
            "==============================================================================\n",
            "Omnibus:                    39834.368   Durbin-Watson:                   1.851\n",
            "Prob(Omnibus):                  0.000   Jarque-Bera (JB):         59814269.062\n",
            "Skew:                           7.918   Prob(JB):                         0.00\n",
            "Kurtosis:                     229.365   Cond. No.                         5.02\n",
            "==============================================================================\n",
            "\n",
            "Warnings:\n",
            "[1] Standard Errors assume that the covariance matrix of the errors is correctly specified.\n"
          ],
          "name": "stdout"
        }
      ]
    },
    {
      "cell_type": "markdown",
      "metadata": {
        "id": "Ez7kgUm-1ZdR"
      },
      "source": [
        "# Funciones en Python"
      ]
    },
    {
      "cell_type": "markdown",
      "metadata": {
        "id": "oYdQeZ081ixw"
      },
      "source": [
        "Una función que imprime un saludo\n"
      ]
    },
    {
      "cell_type": "code",
      "metadata": {
        "id": "OThtn-uaeiZh"
      },
      "source": [
        "def hola(nombre):\n",
        "  print(\"hola como te va \"+nombre)\n"
      ],
      "execution_count": 9,
      "outputs": []
    },
    {
      "cell_type": "code",
      "metadata": {
        "colab": {
          "base_uri": "https://localhost:8080/"
        },
        "id": "etnJaIvsfEVu",
        "outputId": "a4d99f8e-6c71-447a-f62a-aa009664868f"
      },
      "source": [
        "hola(\"juan carlos\")"
      ],
      "execution_count": 10,
      "outputs": [
        {
          "output_type": "stream",
          "text": [
            "hola como te va juan carlos\n"
          ],
          "name": "stdout"
        }
      ]
    },
    {
      "cell_type": "markdown",
      "metadata": {
        "id": "M4ImAPx016fX"
      },
      "source": [
        "Una función para sumar valores"
      ]
    },
    {
      "cell_type": "code",
      "metadata": {
        "id": "pyi7_t_Sf5hu"
      },
      "source": [
        "def sumadosvalores(primervalor, segundovalor):\n",
        "  resultado=primervalor+segundovalor\n",
        "  return resultado #utilizamos return para especificar lo que queremos que la función devuelva"
      ],
      "execution_count": 11,
      "outputs": []
    },
    {
      "cell_type": "code",
      "metadata": {
        "id": "6oO0w9ySgI82"
      },
      "source": [
        "abcd=sumadosvalores(2,2)"
      ],
      "execution_count": 12,
      "outputs": []
    },
    {
      "cell_type": "code",
      "metadata": {
        "colab": {
          "base_uri": "https://localhost:8080/"
        },
        "id": "YgdrzgKtg52Z",
        "outputId": "66846a60-fb73-4b37-8861-6e87ba5ceb6a"
      },
      "source": [
        "abcd"
      ],
      "execution_count": 13,
      "outputs": [
        {
          "output_type": "execute_result",
          "data": {
            "text/plain": [
              "4"
            ]
          },
          "metadata": {
            "tags": []
          },
          "execution_count": 13
        }
      ]
    },
    {
      "cell_type": "markdown",
      "metadata": {
        "id": "DR-coqLeGHf7"
      },
      "source": [
        "Construimos una función para estimar la regresión \\\\\n",
        "La función tomará dos argumentos: una lista de nombre de variables, y un dataframe donde encontrarlas y correr la regresión.\n",
        "La lista de nombres tendrá primero al nombre de la variable a explicar y el resto serán las explicativas.  \n",
        "La función se encargará de todos los pasos intermedios que vimos que son necesarios para correr la regresión: eliminar los missing, separar las variables, añadir la constante, etc.\n",
        "Vamos a especificar que queremos que devuelva el resultado del método *fit*, que como vimos, es un objeto que incluye varios elementos de interés. \n",
        "\n"
      ]
    },
    {
      "cell_type": "code",
      "metadata": {
        "id": "f-MaX0O4FbQz"
      },
      "source": [
        "def regress(lista, df):  \n",
        "  datos=df[lista]\n",
        "  # el metodo dropna() me permite eliminar las filas que tienen algun valor missing\n",
        "  datos=datos.dropna()\n",
        "  # lista[0] refiere al primer elemento de la lista, esto es, el nombre de la variable a explicar\n",
        "  # del dataframe datos tomaremos solo la columna con el nombre de la variable a explicar para la variable Y\n",
        "  Y=datos[lista[0]]\n",
        "  # lista[1:] refiere al resto de los nombres incluidos en la  lista, esto es, a la lista de nombre de la variables que serán explicativas\n",
        "  X=datos[lista[1:]]\n",
        "  X=sm.add_constant(X)\n",
        "  modelo=sm.OLS(Y,X)\n",
        "  resultados=modelo.fit()\n",
        "  # imprimimos en pantalla el resumen de resultados\n",
        "  print(resultados.summary())\n",
        "  # la funcion devolverá el objeto de resultados\n",
        "  return resultados\n",
        "\n"
      ],
      "execution_count": 14,
      "outputs": []
    },
    {
      "cell_type": "markdown",
      "metadata": {
        "id": "5UvCnqQx4DMy"
      },
      "source": [
        "A continuacion llamamos a la función regress. Va a imprimir los resultados, pero el resultado de fit no quedará guardado en ningun lado."
      ]
    },
    {
      "cell_type": "code",
      "metadata": {
        "colab": {
          "base_uri": "https://localhost:8080/"
        },
        "id": "dbkoouXuh_2h",
        "outputId": "814740fe-2f01-484b-f5c8-ecd86acd83ea"
      },
      "source": [
        "regress(['price','bedrooms'], departamentos)"
      ],
      "execution_count": 15,
      "outputs": [
        {
          "output_type": "stream",
          "text": [
            "                            OLS Regression Results                            \n",
            "==============================================================================\n",
            "Dep. Variable:                  price   R-squared:                       0.049\n",
            "Model:                            OLS   Adj. R-squared:                  0.049\n",
            "Method:                 Least Squares   F-statistic:                     1443.\n",
            "Date:                Thu, 08 Jul 2021   Prob (F-statistic):          7.68e-308\n",
            "Time:                        20:39:52   Log-Likelihood:            -3.0876e+05\n",
            "No. Observations:               27879   AIC:                         6.175e+05\n",
            "Df Residuals:                   27877   BIC:                         6.175e+05\n",
            "Df Model:                           1                                         \n",
            "Covariance Type:            nonrobust                                         \n",
            "==============================================================================\n",
            "                 coef    std err          t      P>|t|      [0.025      0.975]\n",
            "------------------------------------------------------------------------------\n",
            "const       1.151e+04    205.145     56.088      0.000    1.11e+04    1.19e+04\n",
            "bedrooms    4253.5067    111.984     37.983      0.000    4034.013    4473.000\n",
            "==============================================================================\n",
            "Omnibus:                    39834.368   Durbin-Watson:                   1.851\n",
            "Prob(Omnibus):                  0.000   Jarque-Bera (JB):         59814269.062\n",
            "Skew:                           7.918   Prob(JB):                         0.00\n",
            "Kurtosis:                     229.365   Cond. No.                         5.02\n",
            "==============================================================================\n",
            "\n",
            "Warnings:\n",
            "[1] Standard Errors assume that the covariance matrix of the errors is correctly specified.\n"
          ],
          "name": "stdout"
        },
        {
          "output_type": "execute_result",
          "data": {
            "text/plain": [
              "<statsmodels.regression.linear_model.RegressionResultsWrapper at 0x7fd345b5f050>"
            ]
          },
          "metadata": {
            "tags": []
          },
          "execution_count": 15
        }
      ]
    },
    {
      "cell_type": "markdown",
      "metadata": {
        "id": "B6XoErlh4N7L"
      },
      "source": [
        "A continuación corro regress, pero también guardo el resultado de fit en la nueva variable (el objeto) que llamo resultados."
      ]
    },
    {
      "cell_type": "code",
      "metadata": {
        "colab": {
          "base_uri": "https://localhost:8080/"
        },
        "id": "umAikE4iF8hW",
        "outputId": "862deaed-e417-4564-c974-f5a679012c0e"
      },
      "source": [
        "resultados=regress(['price', 'bedrooms'],departamentos)"
      ],
      "execution_count": 16,
      "outputs": [
        {
          "output_type": "stream",
          "text": [
            "                            OLS Regression Results                            \n",
            "==============================================================================\n",
            "Dep. Variable:                  price   R-squared:                       0.049\n",
            "Model:                            OLS   Adj. R-squared:                  0.049\n",
            "Method:                 Least Squares   F-statistic:                     1443.\n",
            "Date:                Thu, 08 Jul 2021   Prob (F-statistic):          7.68e-308\n",
            "Time:                        20:39:53   Log-Likelihood:            -3.0876e+05\n",
            "No. Observations:               27879   AIC:                         6.175e+05\n",
            "Df Residuals:                   27877   BIC:                         6.175e+05\n",
            "Df Model:                           1                                         \n",
            "Covariance Type:            nonrobust                                         \n",
            "==============================================================================\n",
            "                 coef    std err          t      P>|t|      [0.025      0.975]\n",
            "------------------------------------------------------------------------------\n",
            "const       1.151e+04    205.145     56.088      0.000    1.11e+04    1.19e+04\n",
            "bedrooms    4253.5067    111.984     37.983      0.000    4034.013    4473.000\n",
            "==============================================================================\n",
            "Omnibus:                    39834.368   Durbin-Watson:                   1.851\n",
            "Prob(Omnibus):                  0.000   Jarque-Bera (JB):         59814269.062\n",
            "Skew:                           7.918   Prob(JB):                         0.00\n",
            "Kurtosis:                     229.365   Cond. No.                         5.02\n",
            "==============================================================================\n",
            "\n",
            "Warnings:\n",
            "[1] Standard Errors assume that the covariance matrix of the errors is correctly specified.\n"
          ],
          "name": "stdout"
        }
      ]
    },
    {
      "cell_type": "markdown",
      "metadata": {
        "id": "mozMJblUZcw2"
      },
      "source": [
        "# Histrograma de Errores Estimados\n"
      ]
    },
    {
      "cell_type": "code",
      "metadata": {
        "colab": {
          "base_uri": "https://localhost:8080/"
        },
        "id": "y2qBr65YitL-",
        "outputId": "b0ab2e12-61c8-4ab5-bbab-8254e3cf40f5"
      },
      "source": [
        "resultados.predict()"
      ],
      "execution_count": 17,
      "outputs": [
        {
          "output_type": "execute_result",
          "data": {
            "text/plain": [
              "array([15759.69772791, 20013.20447292, 15759.69772791, ...,\n",
              "       28520.21796295, 15759.69772791, 20013.20447292])"
            ]
          },
          "metadata": {
            "tags": []
          },
          "execution_count": 17
        }
      ]
    },
    {
      "cell_type": "code",
      "metadata": {
        "colab": {
          "base_uri": "https://localhost:8080/"
        },
        "id": "UAD_4byyjWfs",
        "outputId": "0ee91c62-5bae-449b-ab1d-daa9580c820c"
      },
      "source": [
        "datos.price-resultados.predict(X)"
      ],
      "execution_count": 18,
      "outputs": [
        {
          "output_type": "execute_result",
          "data": {
            "text/plain": [
              "0         2240.302272\n",
              "2        -1513.204473\n",
              "4         2740.302272\n",
              "43        -759.697728\n",
              "45       -2759.697728\n",
              "             ...     \n",
              "50647    -9513.204473\n",
              "50648     1740.302272\n",
              "50650    11479.782037\n",
              "50651   -11259.697728\n",
              "50652    -7013.204473\n",
              "Length: 27879, dtype: float64"
            ]
          },
          "metadata": {
            "tags": []
          },
          "execution_count": 18
        }
      ]
    },
    {
      "cell_type": "markdown",
      "metadata": {
        "id": "XA1RZ4b1jbIc"
      },
      "source": [
        "$e=Y-Y^$"
      ]
    },
    {
      "cell_type": "code",
      "metadata": {
        "id": "7_KmOzPLZENr",
        "colab": {
          "base_uri": "https://localhost:8080/",
          "height": 282
        },
        "outputId": "1812c32a-4a44-49ed-b1f2-8eed96fada39"
      },
      "source": [
        "residuos=datos.price-resultados.predict(X)\n",
        "residuos.hist()"
      ],
      "execution_count": 19,
      "outputs": [
        {
          "output_type": "execute_result",
          "data": {
            "text/plain": [
              "<matplotlib.axes._subplots.AxesSubplot at 0x7fd345b76450>"
            ]
          },
          "metadata": {
            "tags": []
          },
          "execution_count": 19
        },
        {
          "output_type": "display_data",
          "data": {
            "image/png": "[encoded data removed]",
            "text/plain": [
              "<Figure size 432x288 with 1 Axes>"
            ]
          },
          "metadata": {
            "tags": [],
            "needs_background": "light"
          }
        }
      ]
    },
    {
      "cell_type": "code",
      "metadata": {
        "colab": {
          "base_uri": "https://localhost:8080/",
          "height": 282
        },
        "id": "eqlg6Rw0lBJj",
        "outputId": "6a192059-72c5-4fd1-fbc0-9032766c038d"
      },
      "source": [
        "datos.bedrooms.hist()"
      ],
      "execution_count": 20,
      "outputs": [
        {
          "output_type": "execute_result",
          "data": {
            "text/plain": [
              "<matplotlib.axes._subplots.AxesSubplot at 0x7fd345b20fd0>"
            ]
          },
          "metadata": {
            "tags": []
          },
          "execution_count": 20
        },
        {
          "output_type": "display_data",
          "data": {
            "image/png": "[encoded data removed]",
            "text/plain": [
              "<Figure size 432x288 with 1 Axes>"
            ]
          },
          "metadata": {
            "tags": [],
            "needs_background": "light"
          }
        }
      ]
    },
    {
      "cell_type": "code",
      "metadata": {
        "id": "cGlHVJ1acVO0",
        "colab": {
          "base_uri": "https://localhost:8080/",
          "height": 282
        },
        "outputId": "49203ef6-9cec-4e87-e184-ca33193e286f"
      },
      "source": [
        "plt.scatter(datos.bedrooms,residuos)"
      ],
      "execution_count": 21,
      "outputs": [
        {
          "output_type": "execute_result",
          "data": {
            "text/plain": [
              "<matplotlib.collections.PathCollection at 0x7fd345b66690>"
            ]
          },
          "metadata": {
            "tags": []
          },
          "execution_count": 21
        },
        {
          "output_type": "display_data",
          "data": {
            "image/png": "[encoded data removed]",
            "text/plain": [
              "<Figure size 432x288 with 1 Axes>"
            ]
          },
          "metadata": {
            "tags": [],
            "needs_background": "light"
          }
        }
      ]
    },
    {
      "cell_type": "markdown",
      "metadata": {
        "id": "VxeJXx9gacmx"
      },
      "source": [
        "#Transformación Logarítmica\n",
        "\n",
        "Modelo propuesto:\n",
        "\n",
        "$log(price_i)=\\beta_0+\\beta_1*bedrooms_i+\\epsilon_i$\n"
      ]
    },
    {
      "cell_type": "code",
      "metadata": {
        "colab": {
          "base_uri": "https://localhost:8080/"
        },
        "id": "mLnmUfMemWLk",
        "outputId": "224d4dc6-8dfe-4641-f242-52c907e3199c"
      },
      "source": [
        "np.log(datos.price)"
      ],
      "execution_count": 22,
      "outputs": [
        {
          "output_type": "execute_result",
          "data": {
            "text/plain": [
              "0         9.798127\n",
              "2         9.825526\n",
              "4         9.825526\n",
              "43        9.615805\n",
              "45        9.472705\n",
              "           ...    \n",
              "50647     9.259131\n",
              "50648     9.769956\n",
              "50650    10.596635\n",
              "50651     8.411833\n",
              "50652     9.472705\n",
              "Name: price, Length: 27879, dtype: float64"
            ]
          },
          "metadata": {
            "tags": []
          },
          "execution_count": 22
        }
      ]
    },
    {
      "cell_type": "code",
      "metadata": {
        "id": "97bn_XQ7mqet"
      },
      "source": [
        "logY=np.log(Y)"
      ],
      "execution_count": 23,
      "outputs": []
    },
    {
      "cell_type": "code",
      "metadata": {
        "id": "ynxrXQnqm1nC"
      },
      "source": [
        "departamentos['logprice']=np.log(departamentos.price)"
      ],
      "execution_count": 24,
      "outputs": []
    },
    {
      "cell_type": "code",
      "metadata": {
        "colab": {
          "base_uri": "https://localhost:8080/",
          "height": 282
        },
        "id": "TKazXIsFnfz-",
        "outputId": "2e994f88-a0b9-40c4-8117-0e1e6fe16646"
      },
      "source": [
        "departamentos.logprice.hist(bins=30)"
      ],
      "execution_count": 25,
      "outputs": [
        {
          "output_type": "execute_result",
          "data": {
            "text/plain": [
              "<matplotlib.axes._subplots.AxesSubplot at 0x7fd345b50350>"
            ]
          },
          "metadata": {
            "tags": []
          },
          "execution_count": 25
        },
        {
          "output_type": "display_data",
          "data": {
            "image/png": "[encoded data removed]",
            "text/plain": [
              "<Figure size 432x288 with 1 Axes>"
            ]
          },
          "metadata": {
            "tags": [],
            "needs_background": "light"
          }
        }
      ]
    },
    {
      "cell_type": "code",
      "metadata": {
        "colab": {
          "base_uri": "https://localhost:8080/"
        },
        "id": "KP8VMOhHoNxH",
        "outputId": "0d38ec05-db92-4302-fd5e-b459a6fb096b"
      },
      "source": [
        "regress(['logprice','bedrooms'],departamentos)"
      ],
      "execution_count": 26,
      "outputs": [
        {
          "output_type": "stream",
          "text": [
            "                            OLS Regression Results                            \n",
            "==============================================================================\n",
            "Dep. Variable:               logprice   R-squared:                       0.001\n",
            "Model:                            OLS   Adj. R-squared:                  0.001\n",
            "Method:                 Least Squares   F-statistic:                     19.53\n",
            "Date:                Thu, 08 Jul 2021   Prob (F-statistic):           9.96e-06\n",
            "Time:                        20:39:54   Log-Likelihood:                -35268.\n",
            "No. Observations:               27879   AIC:                         7.054e+04\n",
            "Df Residuals:                   27877   BIC:                         7.056e+04\n",
            "Df Model:                           1                                         \n",
            "Covariance Type:            nonrobust                                         \n",
            "==============================================================================\n",
            "                 coef    std err          t      P>|t|      [0.025      0.975]\n",
            "------------------------------------------------------------------------------\n",
            "const          9.4810      0.011    841.888      0.000       9.459       9.503\n",
            "bedrooms       0.0272      0.006      4.419      0.000       0.015       0.039\n",
            "==============================================================================\n",
            "Omnibus:                     4887.715   Durbin-Watson:                   1.771\n",
            "Prob(Omnibus):                  0.000   Jarque-Bera (JB):             9384.217\n",
            "Skew:                          -1.083   Prob(JB):                         0.00\n",
            "Kurtosis:                       4.840   Cond. No.                         5.02\n",
            "==============================================================================\n",
            "\n",
            "Warnings:\n",
            "[1] Standard Errors assume that the covariance matrix of the errors is correctly specified.\n"
          ],
          "name": "stdout"
        },
        {
          "output_type": "execute_result",
          "data": {
            "text/plain": [
              "<statsmodels.regression.linear_model.RegressionResultsWrapper at 0x7fd345b02510>"
            ]
          },
          "metadata": {
            "tags": []
          },
          "execution_count": 26
        }
      ]
    },
    {
      "cell_type": "code",
      "metadata": {
        "id": "TYUHPI-Ma5p6"
      },
      "source": [
        "logY=np.log(Y)"
      ],
      "execution_count": 27,
      "outputs": []
    },
    {
      "cell_type": "code",
      "metadata": {
        "id": "wR_HzttWbhtV",
        "colab": {
          "base_uri": "https://localhost:8080/",
          "height": 282
        },
        "outputId": "a437cc6b-b4bd-4c79-8b14-d8d7c0df78b5"
      },
      "source": [
        "logY.hist()"
      ],
      "execution_count": 28,
      "outputs": [
        {
          "output_type": "execute_result",
          "data": {
            "text/plain": [
              "<matplotlib.axes._subplots.AxesSubplot at 0x7fd345b5f410>"
            ]
          },
          "metadata": {
            "tags": []
          },
          "execution_count": 28
        },
        {
          "output_type": "display_data",
          "data": {
            "image/png": "[encoded data removed]",
            "text/plain": [
              "<Figure size 432x288 with 1 Axes>"
            ]
          },
          "metadata": {
            "tags": [],
            "needs_background": "light"
          }
        }
      ]
    },
    {
      "cell_type": "code",
      "metadata": {
        "id": "f-3NEFC7aaDI",
        "colab": {
          "base_uri": "https://localhost:8080/"
        },
        "outputId": "45d385ea-b44c-4f5b-c5e2-270bfb9dd22f"
      },
      "source": [
        "modelo=sm.OLS(logY,X)\n",
        "resultados=modelo.fit()\n",
        "print(resultados.summary())"
      ],
      "execution_count": 29,
      "outputs": [
        {
          "output_type": "stream",
          "text": [
            "                            OLS Regression Results                            \n",
            "==============================================================================\n",
            "Dep. Variable:                  price   R-squared:                       0.001\n",
            "Model:                            OLS   Adj. R-squared:                  0.001\n",
            "Method:                 Least Squares   F-statistic:                     19.53\n",
            "Date:                Thu, 08 Jul 2021   Prob (F-statistic):           9.96e-06\n",
            "Time:                        20:39:54   Log-Likelihood:                -35268.\n",
            "No. Observations:               27879   AIC:                         7.054e+04\n",
            "Df Residuals:                   27877   BIC:                         7.056e+04\n",
            "Df Model:                           1                                         \n",
            "Covariance Type:            nonrobust                                         \n",
            "==============================================================================\n",
            "                 coef    std err          t      P>|t|      [0.025      0.975]\n",
            "------------------------------------------------------------------------------\n",
            "const          9.4810      0.011    841.888      0.000       9.459       9.503\n",
            "bedrooms       0.0272      0.006      4.419      0.000       0.015       0.039\n",
            "==============================================================================\n",
            "Omnibus:                     4887.715   Durbin-Watson:                   1.771\n",
            "Prob(Omnibus):                  0.000   Jarque-Bera (JB):             9384.217\n",
            "Skew:                          -1.083   Prob(JB):                         0.00\n",
            "Kurtosis:                       4.840   Cond. No.                         5.02\n",
            "==============================================================================\n",
            "\n",
            "Warnings:\n",
            "[1] Standard Errors assume that the covariance matrix of the errors is correctly specified.\n"
          ],
          "name": "stdout"
        }
      ]
    },
    {
      "cell_type": "code",
      "metadata": {
        "id": "1_1kQlYCabKa",
        "colab": {
          "base_uri": "https://localhost:8080/",
          "height": 283
        },
        "outputId": "b6a14ca6-9c4e-4b66-ba60-7ac238ecd90f"
      },
      "source": [
        "residuos2=logY-resultados.predict(X)\n",
        "residuos2.hist()"
      ],
      "execution_count": 30,
      "outputs": [
        {
          "output_type": "execute_result",
          "data": {
            "text/plain": [
              "<matplotlib.axes._subplots.AxesSubplot at 0x7fd345aa8610>"
            ]
          },
          "metadata": {
            "tags": []
          },
          "execution_count": 30
        },
        {
          "output_type": "display_data",
          "data": {
            "image/png": "[encoded data removed]",
            "text/plain": [
              "<Figure size 432x288 with 1 Axes>"
            ]
          },
          "metadata": {
            "tags": [],
            "needs_background": "light"
          }
        }
      ]
    },
    {
      "cell_type": "code",
      "metadata": {
        "id": "T7Yu3-TUc6CE",
        "colab": {
          "base_uri": "https://localhost:8080/",
          "height": 282
        },
        "outputId": "85cfddc0-1115-47cf-9ea9-94add4906b68"
      },
      "source": [
        "# scatterplot \n",
        "\n",
        "plt.scatter(datos.bedrooms,residuos2)"
      ],
      "execution_count": 31,
      "outputs": [
        {
          "output_type": "execute_result",
          "data": {
            "text/plain": [
              "<matplotlib.collections.PathCollection at 0x7fd345ad2a10>"
            ]
          },
          "metadata": {
            "tags": []
          },
          "execution_count": 31
        },
        {
          "output_type": "display_data",
          "data": {
            "image/png": "[encoded data removed]",
            "text/plain": [
              "<Figure size 432x288 with 1 Axes>"
            ]
          },
          "metadata": {
            "tags": [],
            "needs_background": "light"
          }
        }
      ]
    },
    {
      "cell_type": "markdown",
      "metadata": {
        "id": "JsjBc4rpdFey"
      },
      "source": [
        "# Creacion de una dummy para el barrio de Palermo\n",
        "Modelo propuesto:\n",
        "\n",
        "$price_i=\\beta_0+\\beta_1*bedrooms_i+\\beta_2*DPalermo+\\epsilon_i$\n",
        "\n",
        "Para este ejercicio solo estudiaremos los datos de CABA"
      ]
    },
    {
      "cell_type": "code",
      "metadata": {
        "id": "UFSw_JjvfxT3"
      },
      "source": [
        "departamentosCABA=departamentos.loc[departamentos['l2']=='Capital Federal']"
      ],
      "execution_count": 32,
      "outputs": []
    },
    {
      "cell_type": "code",
      "metadata": {
        "id": "9Zy9uO53hAeJ",
        "colab": {
          "base_uri": "https://localhost:8080/"
        },
        "outputId": "37cca92d-db42-42cf-da39-0be7647a1b9c"
      },
      "source": [
        "departamentosCABA.l3.unique()"
      ],
      "execution_count": 33,
      "outputs": [
        {
          "output_type": "execute_result",
          "data": {
            "text/plain": [
              "array(['Recoleta', 'Balvanera', 'Monserrat', 'Villa Urquiza', 'Almagro',\n",
              "       'Palermo', 'Belgrano', 'Caballito', b'Nu\\xf1ez', 'Congreso',\n",
              "       'Saavedra', 'Barrio Norte', 'Puerto Madero', 'Retiro', 'Once',\n",
              "       'Barracas', 'Floresta', 'Chacarita', 'Colegiales',\n",
              "       b'Las Ca\\xf1itas', b'San Nicol\\xe1s', 'Villa Crespo',\n",
              "       'Villa del Parque', 'Parque Centenario', b'Villa Pueyrred\\xf3n',\n",
              "       'Villa General Mitre', 'Boedo', 'Flores', 'Coghlan', 'Paternal',\n",
              "       'San Telmo', 'Monte Castro', 'Villa Devoto', 'San Cristobal',\n",
              "       'Parque Chacabuco', 'Parque Avellaneda', 'Abasto', 'Mataderos',\n",
              "       'Tribunales', 'Villa Luro', 'Villa Ortuzar',\n",
              "       'Centro / Microcentro', 'Boca', 'Liniers', 'Villa Lugano',\n",
              "       'Parque Chas', b'Constituci\\xf3n', b'Agronom\\xeda',\n",
              "       'Parque Patricios', None, 'Versalles', 'Villa Santa Rita',\n",
              "       'Velez Sarsfield', 'Pompeya', 'Villa Real', 'Villa Riachuelo',\n",
              "       'Catalinas'], dtype=object)"
            ]
          },
          "metadata": {
            "tags": []
          },
          "execution_count": 33
        }
      ]
    },
    {
      "cell_type": "code",
      "metadata": {
        "id": "i_MWGmw69oVu"
      },
      "source": [
        "departamentosCABA.loc[departamentosCABA.l3=='Palermo','dummyPalermo']=1\n",
        "departamentosCABA.loc[departamentosCABA.l3!='Palermo','dummyPalermo']=0\n"
      ],
      "execution_count": 57,
      "outputs": []
    },
    {
      "cell_type": "code",
      "metadata": {
        "id": "wYuEPNoKDW7n",
        "outputId": "b8e6660e-be5f-448a-a738-0bd3883e219e",
        "colab": {
          "base_uri": "https://localhost:8080/",
          "height": 356
        }
      },
      "source": [
        "departamentosCABA[['l3','dummyPalermo']].head(10)"
      ],
      "execution_count": 59,
      "outputs": [
        {
          "output_type": "execute_result",
          "data": {
            "text/html": [
              "<div>\n",
              "<style scoped>\n",
              "    .dataframe tbody tr th:only-of-type {\n",
              "        vertical-align: middle;\n",
              "    }\n",
              "\n",
              "    .dataframe tbody tr th {\n",
              "        vertical-align: top;\n",
              "    }\n",
              "\n",
              "    .dataframe thead th {\n",
              "        text-align: right;\n",
              "    }\n",
              "</style>\n",
              "<table border=\"1\" class=\"dataframe\">\n",
              "  <thead>\n",
              "    <tr style=\"text-align: right;\">\n",
              "      <th></th>\n",
              "      <th>l3</th>\n",
              "      <th>dummyPalermo</th>\n",
              "    </tr>\n",
              "  </thead>\n",
              "  <tbody>\n",
              "    <tr>\n",
              "      <th>0</th>\n",
              "      <td>Recoleta</td>\n",
              "      <td>0.0</td>\n",
              "    </tr>\n",
              "    <tr>\n",
              "      <th>1</th>\n",
              "      <td>Balvanera</td>\n",
              "      <td>0.0</td>\n",
              "    </tr>\n",
              "    <tr>\n",
              "      <th>2</th>\n",
              "      <td>Monserrat</td>\n",
              "      <td>0.0</td>\n",
              "    </tr>\n",
              "    <tr>\n",
              "      <th>4</th>\n",
              "      <td>Villa Urquiza</td>\n",
              "      <td>0.0</td>\n",
              "    </tr>\n",
              "    <tr>\n",
              "      <th>5</th>\n",
              "      <td>Almagro</td>\n",
              "      <td>0.0</td>\n",
              "    </tr>\n",
              "    <tr>\n",
              "      <th>6</th>\n",
              "      <td>Palermo</td>\n",
              "      <td>1.0</td>\n",
              "    </tr>\n",
              "    <tr>\n",
              "      <th>7</th>\n",
              "      <td>Belgrano</td>\n",
              "      <td>0.0</td>\n",
              "    </tr>\n",
              "    <tr>\n",
              "      <th>8</th>\n",
              "      <td>Belgrano</td>\n",
              "      <td>0.0</td>\n",
              "    </tr>\n",
              "    <tr>\n",
              "      <th>9</th>\n",
              "      <td>Recoleta</td>\n",
              "      <td>0.0</td>\n",
              "    </tr>\n",
              "    <tr>\n",
              "      <th>10</th>\n",
              "      <td>Caballito</td>\n",
              "      <td>0.0</td>\n",
              "    </tr>\n",
              "  </tbody>\n",
              "</table>\n",
              "</div>"
            ],
            "text/plain": [
              "               l3  dummyPalermo\n",
              "0        Recoleta           0.0\n",
              "1       Balvanera           0.0\n",
              "2       Monserrat           0.0\n",
              "4   Villa Urquiza           0.0\n",
              "5         Almagro           0.0\n",
              "6         Palermo           1.0\n",
              "7        Belgrano           0.0\n",
              "8        Belgrano           0.0\n",
              "9        Recoleta           0.0\n",
              "10      Caballito           0.0"
            ]
          },
          "metadata": {
            "tags": []
          },
          "execution_count": 59
        }
      ]
    },
    {
      "cell_type": "code",
      "metadata": {
        "id": "QUQsaEk6DueH",
        "outputId": "d91b4496-3baa-4124-9989-f166e584c19b",
        "colab": {
          "base_uri": "https://localhost:8080/"
        }
      },
      "source": [
        "resultados=regress(['price', 'bedrooms','dummyPalermo'],departamentosCABA)"
      ],
      "execution_count": 60,
      "outputs": [
        {
          "output_type": "stream",
          "text": [
            "                            OLS Regression Results                            \n",
            "==============================================================================\n",
            "Dep. Variable:                  price   R-squared:                       0.028\n",
            "Model:                            OLS   Adj. R-squared:                  0.028\n",
            "Method:                 Least Squares   F-statistic:                     282.1\n",
            "Date:                Thu, 08 Jul 2021   Prob (F-statistic):          1.75e-121\n",
            "Time:                        21:38:44   Log-Likelihood:            -2.1589e+05\n",
            "No. Observations:               19381   AIC:                         4.318e+05\n",
            "Df Residuals:                   19378   BIC:                         4.318e+05\n",
            "Df Model:                           2                                         \n",
            "Covariance Type:            nonrobust                                         \n",
            "================================================================================\n",
            "                   coef    std err          t      P>|t|      [0.025      0.975]\n",
            "--------------------------------------------------------------------------------\n",
            "const         1.305e+04    262.836     49.666      0.000    1.25e+04    1.36e+04\n",
            "bedrooms      3246.1545    138.276     23.476      0.000    2975.121    3517.188\n",
            "dummyPalermo   539.9372    296.293      1.822      0.068     -40.822    1120.697\n",
            "==============================================================================\n",
            "Omnibus:                    24715.663   Durbin-Watson:                   1.884\n",
            "Prob(Omnibus):                  0.000   Jarque-Bera (JB):         17619438.157\n",
            "Skew:                           6.504   Prob(JB):                         0.00\n",
            "Kurtosis:                     150.137   Cond. No.                         5.46\n",
            "==============================================================================\n",
            "\n",
            "Warnings:\n",
            "[1] Standard Errors assume that the covariance matrix of the errors is correctly specified.\n"
          ],
          "name": "stdout"
        }
      ]
    },
    {
      "cell_type": "code",
      "metadata": {
        "id": "p62or0DRlkP7"
      },
      "source": [
        "Ypred=resultados.predict()"
      ],
      "execution_count": 47,
      "outputs": []
    },
    {
      "cell_type": "code",
      "metadata": {
        "id": "hVkhzoR9lpec",
        "colab": {
          "base_uri": "https://localhost:8080/",
          "height": 282
        },
        "outputId": "45cbf828-96a4-4816-e9cc-50cb36119a4c"
      },
      "source": [
        "plt.scatter(datos.bedrooms,Ypred)"
      ],
      "execution_count": 48,
      "outputs": [
        {
          "output_type": "execute_result",
          "data": {
            "text/plain": [
              "<matplotlib.collections.PathCollection at 0x7fd345a53d10>"
            ]
          },
          "metadata": {
            "tags": []
          },
          "execution_count": 48
        },
        {
          "output_type": "display_data",
          "data": {
            "image/png": "[encoded data removed]",
            "text/plain": [
              "<Figure size 432x288 with 1 Axes>"
            ]
          },
          "metadata": {
            "tags": [],
            "needs_background": "light"
          }
        }
      ]
    },
    {
      "cell_type": "markdown",
      "metadata": {
        "id": "NZZtnrYJ9eTY"
      },
      "source": [
        "#Estimacion del Modelo con multiples dummies\n"
      ]
    },
    {
      "cell_type": "code",
      "metadata": {
        "id": "sxghA6_ihGRP",
        "colab": {
          "base_uri": "https://localhost:8080/",
          "height": 1000
        },
        "outputId": "93aafbf9-7d9b-48ea-fed9-5c260a6b23dd"
      },
      "source": [
        "# Un extra. Calculo del numero de observaciones por barrio usando groupby\n",
        "departamentosCABA.groupby(by='l3').agg(['count'])['index']"
      ],
      "execution_count": 34,
      "outputs": [
        {
          "output_type": "execute_result",
          "data": {
            "text/html": [
              "<div>\n",
              "<style scoped>\n",
              "    .dataframe tbody tr th:only-of-type {\n",
              "        vertical-align: middle;\n",
              "    }\n",
              "\n",
              "    .dataframe tbody tr th {\n",
              "        vertical-align: top;\n",
              "    }\n",
              "\n",
              "    .dataframe thead th {\n",
              "        text-align: right;\n",
              "    }\n",
              "</style>\n",
              "<table border=\"1\" class=\"dataframe\">\n",
              "  <thead>\n",
              "    <tr style=\"text-align: right;\">\n",
              "      <th></th>\n",
              "      <th>count</th>\n",
              "    </tr>\n",
              "    <tr>\n",
              "      <th>l3</th>\n",
              "      <th></th>\n",
              "    </tr>\n",
              "  </thead>\n",
              "  <tbody>\n",
              "    <tr>\n",
              "      <th>b'Agronom\\xeda'</th>\n",
              "      <td>37</td>\n",
              "    </tr>\n",
              "    <tr>\n",
              "      <th>b'Constituci\\xf3n'</th>\n",
              "      <td>130</td>\n",
              "    </tr>\n",
              "    <tr>\n",
              "      <th>b'Las Ca\\xf1itas'</th>\n",
              "      <td>379</td>\n",
              "    </tr>\n",
              "    <tr>\n",
              "      <th>b'Nu\\xf1ez'</th>\n",
              "      <td>1145</td>\n",
              "    </tr>\n",
              "    <tr>\n",
              "      <th>b'San Nicol\\xe1s'</th>\n",
              "      <td>322</td>\n",
              "    </tr>\n",
              "    <tr>\n",
              "      <th>b'Villa Pueyrred\\xf3n'</th>\n",
              "      <td>246</td>\n",
              "    </tr>\n",
              "    <tr>\n",
              "      <th>Abasto</th>\n",
              "      <td>163</td>\n",
              "    </tr>\n",
              "    <tr>\n",
              "      <th>Almagro</th>\n",
              "      <td>1406</td>\n",
              "    </tr>\n",
              "    <tr>\n",
              "      <th>Balvanera</th>\n",
              "      <td>698</td>\n",
              "    </tr>\n",
              "    <tr>\n",
              "      <th>Barracas</th>\n",
              "      <td>274</td>\n",
              "    </tr>\n",
              "    <tr>\n",
              "      <th>Barrio Norte</th>\n",
              "      <td>1692</td>\n",
              "    </tr>\n",
              "    <tr>\n",
              "      <th>Belgrano</th>\n",
              "      <td>3708</td>\n",
              "    </tr>\n",
              "    <tr>\n",
              "      <th>Boca</th>\n",
              "      <td>143</td>\n",
              "    </tr>\n",
              "    <tr>\n",
              "      <th>Boedo</th>\n",
              "      <td>295</td>\n",
              "    </tr>\n",
              "    <tr>\n",
              "      <th>Caballito</th>\n",
              "      <td>2045</td>\n",
              "    </tr>\n",
              "    <tr>\n",
              "      <th>Catalinas</th>\n",
              "      <td>3</td>\n",
              "    </tr>\n",
              "    <tr>\n",
              "      <th>Centro / Microcentro</th>\n",
              "      <td>251</td>\n",
              "    </tr>\n",
              "    <tr>\n",
              "      <th>Chacarita</th>\n",
              "      <td>188</td>\n",
              "    </tr>\n",
              "    <tr>\n",
              "      <th>Coghlan</th>\n",
              "      <td>204</td>\n",
              "    </tr>\n",
              "    <tr>\n",
              "      <th>Colegiales</th>\n",
              "      <td>515</td>\n",
              "    </tr>\n",
              "    <tr>\n",
              "      <th>Congreso</th>\n",
              "      <td>300</td>\n",
              "    </tr>\n",
              "    <tr>\n",
              "      <th>Flores</th>\n",
              "      <td>808</td>\n",
              "    </tr>\n",
              "    <tr>\n",
              "      <th>Floresta</th>\n",
              "      <td>337</td>\n",
              "    </tr>\n",
              "    <tr>\n",
              "      <th>Liniers</th>\n",
              "      <td>187</td>\n",
              "    </tr>\n",
              "    <tr>\n",
              "      <th>Mataderos</th>\n",
              "      <td>128</td>\n",
              "    </tr>\n",
              "    <tr>\n",
              "      <th>Monserrat</th>\n",
              "      <td>332</td>\n",
              "    </tr>\n",
              "    <tr>\n",
              "      <th>Monte Castro</th>\n",
              "      <td>100</td>\n",
              "    </tr>\n",
              "    <tr>\n",
              "      <th>Once</th>\n",
              "      <td>298</td>\n",
              "    </tr>\n",
              "    <tr>\n",
              "      <th>Palermo</th>\n",
              "      <td>6661</td>\n",
              "    </tr>\n",
              "    <tr>\n",
              "      <th>Parque Avellaneda</th>\n",
              "      <td>22</td>\n",
              "    </tr>\n",
              "    <tr>\n",
              "      <th>Parque Centenario</th>\n",
              "      <td>106</td>\n",
              "    </tr>\n",
              "    <tr>\n",
              "      <th>Parque Chacabuco</th>\n",
              "      <td>237</td>\n",
              "    </tr>\n",
              "    <tr>\n",
              "      <th>Parque Chas</th>\n",
              "      <td>44</td>\n",
              "    </tr>\n",
              "    <tr>\n",
              "      <th>Parque Patricios</th>\n",
              "      <td>123</td>\n",
              "    </tr>\n",
              "    <tr>\n",
              "      <th>Paternal</th>\n",
              "      <td>177</td>\n",
              "    </tr>\n",
              "    <tr>\n",
              "      <th>Pompeya</th>\n",
              "      <td>28</td>\n",
              "    </tr>\n",
              "    <tr>\n",
              "      <th>Puerto Madero</th>\n",
              "      <td>1264</td>\n",
              "    </tr>\n",
              "    <tr>\n",
              "      <th>Recoleta</th>\n",
              "      <td>2915</td>\n",
              "    </tr>\n",
              "    <tr>\n",
              "      <th>Retiro</th>\n",
              "      <td>529</td>\n",
              "    </tr>\n",
              "    <tr>\n",
              "      <th>Saavedra</th>\n",
              "      <td>279</td>\n",
              "    </tr>\n",
              "    <tr>\n",
              "      <th>San Cristobal</th>\n",
              "      <td>339</td>\n",
              "    </tr>\n",
              "    <tr>\n",
              "      <th>San Telmo</th>\n",
              "      <td>471</td>\n",
              "    </tr>\n",
              "    <tr>\n",
              "      <th>Tribunales</th>\n",
              "      <td>82</td>\n",
              "    </tr>\n",
              "    <tr>\n",
              "      <th>Velez Sarsfield</th>\n",
              "      <td>18</td>\n",
              "    </tr>\n",
              "    <tr>\n",
              "      <th>Versalles</th>\n",
              "      <td>67</td>\n",
              "    </tr>\n",
              "    <tr>\n",
              "      <th>Villa Crespo</th>\n",
              "      <td>1080</td>\n",
              "    </tr>\n",
              "    <tr>\n",
              "      <th>Villa Devoto</th>\n",
              "      <td>386</td>\n",
              "    </tr>\n",
              "    <tr>\n",
              "      <th>Villa General Mitre</th>\n",
              "      <td>47</td>\n",
              "    </tr>\n",
              "    <tr>\n",
              "      <th>Villa Lugano</th>\n",
              "      <td>83</td>\n",
              "    </tr>\n",
              "    <tr>\n",
              "      <th>Villa Luro</th>\n",
              "      <td>155</td>\n",
              "    </tr>\n",
              "    <tr>\n",
              "      <th>Villa Ortuzar</th>\n",
              "      <td>98</td>\n",
              "    </tr>\n",
              "    <tr>\n",
              "      <th>Villa Real</th>\n",
              "      <td>24</td>\n",
              "    </tr>\n",
              "    <tr>\n",
              "      <th>Villa Riachuelo</th>\n",
              "      <td>3</td>\n",
              "    </tr>\n",
              "    <tr>\n",
              "      <th>Villa Santa Rita</th>\n",
              "      <td>73</td>\n",
              "    </tr>\n",
              "    <tr>\n",
              "      <th>Villa Urquiza</th>\n",
              "      <td>1361</td>\n",
              "    </tr>\n",
              "    <tr>\n",
              "      <th>Villa del Parque</th>\n",
              "      <td>458</td>\n",
              "    </tr>\n",
              "  </tbody>\n",
              "</table>\n",
              "</div>"
            ],
            "text/plain": [
              "                        count\n",
              "l3                           \n",
              "b'Agronom\\xeda'            37\n",
              "b'Constituci\\xf3n'        130\n",
              "b'Las Ca\\xf1itas'         379\n",
              "b'Nu\\xf1ez'              1145\n",
              "b'San Nicol\\xe1s'         322\n",
              "b'Villa Pueyrred\\xf3n'    246\n",
              "Abasto                    163\n",
              "Almagro                  1406\n",
              "Balvanera                 698\n",
              "Barracas                  274\n",
              "Barrio Norte             1692\n",
              "Belgrano                 3708\n",
              "Boca                      143\n",
              "Boedo                     295\n",
              "Caballito                2045\n",
              "Catalinas                   3\n",
              "Centro / Microcentro      251\n",
              "Chacarita                 188\n",
              "Coghlan                   204\n",
              "Colegiales                515\n",
              "Congreso                  300\n",
              "Flores                    808\n",
              "Floresta                  337\n",
              "Liniers                   187\n",
              "Mataderos                 128\n",
              "Monserrat                 332\n",
              "Monte Castro              100\n",
              "Once                      298\n",
              "Palermo                  6661\n",
              "Parque Avellaneda          22\n",
              "Parque Centenario         106\n",
              "Parque Chacabuco          237\n",
              "Parque Chas                44\n",
              "Parque Patricios          123\n",
              "Paternal                  177\n",
              "Pompeya                    28\n",
              "Puerto Madero            1264\n",
              "Recoleta                 2915\n",
              "Retiro                    529\n",
              "Saavedra                  279\n",
              "San Cristobal             339\n",
              "San Telmo                 471\n",
              "Tribunales                 82\n",
              "Velez Sarsfield            18\n",
              "Versalles                  67\n",
              "Villa Crespo             1080\n",
              "Villa Devoto              386\n",
              "Villa General Mitre        47\n",
              "Villa Lugano               83\n",
              "Villa Luro                155\n",
              "Villa Ortuzar              98\n",
              "Villa Real                 24\n",
              "Villa Riachuelo             3\n",
              "Villa Santa Rita           73\n",
              "Villa Urquiza            1361\n",
              "Villa del Parque          458"
            ]
          },
          "metadata": {
            "tags": []
          },
          "execution_count": 34
        }
      ]
    },
    {
      "cell_type": "markdown",
      "metadata": {
        "id": "W73_sVkrEan5"
      },
      "source": [
        "## Construccion de dummies para una variable categorica de manera automatizada"
      ]
    },
    {
      "cell_type": "code",
      "metadata": {
        "id": "ZMFrALEEgGJu",
        "colab": {
          "base_uri": "https://localhost:8080/",
          "height": 470
        },
        "outputId": "8dee5b44-6723-484a-9820-a3cdb7fe5543"
      },
      "source": [
        "dummiesbarrios=pd.get_dummies(departamentosCABA.l3, prefix='dum')\n",
        "dummiesbarrios"
      ],
      "execution_count": 36,
      "outputs": [
        {
          "output_type": "execute_result",
          "data": {
            "text/html": [
              "<div>\n",
              "<style scoped>\n",
              "    .dataframe tbody tr th:only-of-type {\n",
              "        vertical-align: middle;\n",
              "    }\n",
              "\n",
              "    .dataframe tbody tr th {\n",
              "        vertical-align: top;\n",
              "    }\n",
              "\n",
              "    .dataframe thead th {\n",
              "        text-align: right;\n",
              "    }\n",
              "</style>\n",
              "<table border=\"1\" class=\"dataframe\">\n",
              "  <thead>\n",
              "    <tr style=\"text-align: right;\">\n",
              "      <th></th>\n",
              "      <th>dum_b'Agronom\\xeda'</th>\n",
              "      <th>dum_b'Constituci\\xf3n'</th>\n",
              "      <th>dum_b'Las Ca\\xf1itas'</th>\n",
              "      <th>dum_b'Nu\\xf1ez'</th>\n",
              "      <th>dum_b'San Nicol\\xe1s'</th>\n",
              "      <th>dum_b'Villa Pueyrred\\xf3n'</th>\n",
              "      <th>dum_Abasto</th>\n",
              "      <th>dum_Almagro</th>\n",
              "      <th>dum_Balvanera</th>\n",
              "      <th>dum_Barracas</th>\n",
              "      <th>dum_Barrio Norte</th>\n",
              "      <th>dum_Belgrano</th>\n",
              "      <th>dum_Boca</th>\n",
              "      <th>dum_Boedo</th>\n",
              "      <th>dum_Caballito</th>\n",
              "      <th>dum_Catalinas</th>\n",
              "      <th>dum_Centro / Microcentro</th>\n",
              "      <th>dum_Chacarita</th>\n",
              "      <th>dum_Coghlan</th>\n",
              "      <th>dum_Colegiales</th>\n",
              "      <th>dum_Congreso</th>\n",
              "      <th>dum_Flores</th>\n",
              "      <th>dum_Floresta</th>\n",
              "      <th>dum_Liniers</th>\n",
              "      <th>dum_Mataderos</th>\n",
              "      <th>dum_Monserrat</th>\n",
              "      <th>dum_Monte Castro</th>\n",
              "      <th>dum_Once</th>\n",
              "      <th>dum_Palermo</th>\n",
              "      <th>dum_Parque Avellaneda</th>\n",
              "      <th>dum_Parque Centenario</th>\n",
              "      <th>dum_Parque Chacabuco</th>\n",
              "      <th>dum_Parque Chas</th>\n",
              "      <th>dum_Parque Patricios</th>\n",
              "      <th>dum_Paternal</th>\n",
              "      <th>dum_Pompeya</th>\n",
              "      <th>dum_Puerto Madero</th>\n",
              "      <th>dum_Recoleta</th>\n",
              "      <th>dum_Retiro</th>\n",
              "      <th>dum_Saavedra</th>\n",
              "      <th>dum_San Cristobal</th>\n",
              "      <th>dum_San Telmo</th>\n",
              "      <th>dum_Tribunales</th>\n",
              "      <th>dum_Velez Sarsfield</th>\n",
              "      <th>dum_Versalles</th>\n",
              "      <th>dum_Villa Crespo</th>\n",
              "      <th>dum_Villa Devoto</th>\n",
              "      <th>dum_Villa General Mitre</th>\n",
              "      <th>dum_Villa Lugano</th>\n",
              "      <th>dum_Villa Luro</th>\n",
              "      <th>dum_Villa Ortuzar</th>\n",
              "      <th>dum_Villa Real</th>\n",
              "      <th>dum_Villa Riachuelo</th>\n",
              "      <th>dum_Villa Santa Rita</th>\n",
              "      <th>dum_Villa Urquiza</th>\n",
              "      <th>dum_Villa del Parque</th>\n",
              "    </tr>\n",
              "  </thead>\n",
              "  <tbody>\n",
              "    <tr>\n",
              "      <th>0</th>\n",
              "      <td>0</td>\n",
              "      <td>0</td>\n",
              "      <td>0</td>\n",
              "      <td>0</td>\n",
              "      <td>0</td>\n",
              "      <td>0</td>\n",
              "      <td>0</td>\n",
              "      <td>0</td>\n",
              "      <td>0</td>\n",
              "      <td>0</td>\n",
              "      <td>0</td>\n",
              "      <td>0</td>\n",
              "      <td>0</td>\n",
              "      <td>0</td>\n",
              "      <td>0</td>\n",
              "      <td>0</td>\n",
              "      <td>0</td>\n",
              "      <td>0</td>\n",
              "      <td>0</td>\n",
              "      <td>0</td>\n",
              "      <td>0</td>\n",
              "      <td>0</td>\n",
              "      <td>0</td>\n",
              "      <td>0</td>\n",
              "      <td>0</td>\n",
              "      <td>0</td>\n",
              "      <td>0</td>\n",
              "      <td>0</td>\n",
              "      <td>0</td>\n",
              "      <td>0</td>\n",
              "      <td>0</td>\n",
              "      <td>0</td>\n",
              "      <td>0</td>\n",
              "      <td>0</td>\n",
              "      <td>0</td>\n",
              "      <td>0</td>\n",
              "      <td>0</td>\n",
              "      <td>1</td>\n",
              "      <td>0</td>\n",
              "      <td>0</td>\n",
              "      <td>0</td>\n",
              "      <td>0</td>\n",
              "      <td>0</td>\n",
              "      <td>0</td>\n",
              "      <td>0</td>\n",
              "      <td>0</td>\n",
              "      <td>0</td>\n",
              "      <td>0</td>\n",
              "      <td>0</td>\n",
              "      <td>0</td>\n",
              "      <td>0</td>\n",
              "      <td>0</td>\n",
              "      <td>0</td>\n",
              "      <td>0</td>\n",
              "      <td>0</td>\n",
              "      <td>0</td>\n",
              "    </tr>\n",
              "    <tr>\n",
              "      <th>1</th>\n",
              "      <td>0</td>\n",
              "      <td>0</td>\n",
              "      <td>0</td>\n",
              "      <td>0</td>\n",
              "      <td>0</td>\n",
              "      <td>0</td>\n",
              "      <td>0</td>\n",
              "      <td>0</td>\n",
              "      <td>1</td>\n",
              "      <td>0</td>\n",
              "      <td>0</td>\n",
              "      <td>0</td>\n",
              "      <td>0</td>\n",
              "      <td>0</td>\n",
              "      <td>0</td>\n",
              "      <td>0</td>\n",
              "      <td>0</td>\n",
              "      <td>0</td>\n",
              "      <td>0</td>\n",
              "      <td>0</td>\n",
              "      <td>0</td>\n",
              "      <td>0</td>\n",
              "      <td>0</td>\n",
              "      <td>0</td>\n",
              "      <td>0</td>\n",
              "      <td>0</td>\n",
              "      <td>0</td>\n",
              "      <td>0</td>\n",
              "      <td>0</td>\n",
              "      <td>0</td>\n",
              "      <td>0</td>\n",
              "      <td>0</td>\n",
              "      <td>0</td>\n",
              "      <td>0</td>\n",
              "      <td>0</td>\n",
              "      <td>0</td>\n",
              "      <td>0</td>\n",
              "      <td>0</td>\n",
              "      <td>0</td>\n",
              "      <td>0</td>\n",
              "      <td>0</td>\n",
              "      <td>0</td>\n",
              "      <td>0</td>\n",
              "      <td>0</td>\n",
              "      <td>0</td>\n",
              "      <td>0</td>\n",
              "      <td>0</td>\n",
              "      <td>0</td>\n",
              "      <td>0</td>\n",
              "      <td>0</td>\n",
              "      <td>0</td>\n",
              "      <td>0</td>\n",
              "      <td>0</td>\n",
              "      <td>0</td>\n",
              "      <td>0</td>\n",
              "      <td>0</td>\n",
              "    </tr>\n",
              "    <tr>\n",
              "      <th>2</th>\n",
              "      <td>0</td>\n",
              "      <td>0</td>\n",
              "      <td>0</td>\n",
              "      <td>0</td>\n",
              "      <td>0</td>\n",
              "      <td>0</td>\n",
              "      <td>0</td>\n",
              "      <td>0</td>\n",
              "      <td>0</td>\n",
              "      <td>0</td>\n",
              "      <td>0</td>\n",
              "      <td>0</td>\n",
              "      <td>0</td>\n",
              "      <td>0</td>\n",
              "      <td>0</td>\n",
              "      <td>0</td>\n",
              "      <td>0</td>\n",
              "      <td>0</td>\n",
              "      <td>0</td>\n",
              "      <td>0</td>\n",
              "      <td>0</td>\n",
              "      <td>0</td>\n",
              "      <td>0</td>\n",
              "      <td>0</td>\n",
              "      <td>0</td>\n",
              "      <td>1</td>\n",
              "      <td>0</td>\n",
              "      <td>0</td>\n",
              "      <td>0</td>\n",
              "      <td>0</td>\n",
              "      <td>0</td>\n",
              "      <td>0</td>\n",
              "      <td>0</td>\n",
              "      <td>0</td>\n",
              "      <td>0</td>\n",
              "      <td>0</td>\n",
              "      <td>0</td>\n",
              "      <td>0</td>\n",
              "      <td>0</td>\n",
              "      <td>0</td>\n",
              "      <td>0</td>\n",
              "      <td>0</td>\n",
              "      <td>0</td>\n",
              "      <td>0</td>\n",
              "      <td>0</td>\n",
              "      <td>0</td>\n",
              "      <td>0</td>\n",
              "      <td>0</td>\n",
              "      <td>0</td>\n",
              "      <td>0</td>\n",
              "      <td>0</td>\n",
              "      <td>0</td>\n",
              "      <td>0</td>\n",
              "      <td>0</td>\n",
              "      <td>0</td>\n",
              "      <td>0</td>\n",
              "    </tr>\n",
              "    <tr>\n",
              "      <th>4</th>\n",
              "      <td>0</td>\n",
              "      <td>0</td>\n",
              "      <td>0</td>\n",
              "      <td>0</td>\n",
              "      <td>0</td>\n",
              "      <td>0</td>\n",
              "      <td>0</td>\n",
              "      <td>0</td>\n",
              "      <td>0</td>\n",
              "      <td>0</td>\n",
              "      <td>0</td>\n",
              "      <td>0</td>\n",
              "      <td>0</td>\n",
              "      <td>0</td>\n",
              "      <td>0</td>\n",
              "      <td>0</td>\n",
              "      <td>0</td>\n",
              "      <td>0</td>\n",
              "      <td>0</td>\n",
              "      <td>0</td>\n",
              "      <td>0</td>\n",
              "      <td>0</td>\n",
              "      <td>0</td>\n",
              "      <td>0</td>\n",
              "      <td>0</td>\n",
              "      <td>0</td>\n",
              "      <td>0</td>\n",
              "      <td>0</td>\n",
              "      <td>0</td>\n",
              "      <td>0</td>\n",
              "      <td>0</td>\n",
              "      <td>0</td>\n",
              "      <td>0</td>\n",
              "      <td>0</td>\n",
              "      <td>0</td>\n",
              "      <td>0</td>\n",
              "      <td>0</td>\n",
              "      <td>0</td>\n",
              "      <td>0</td>\n",
              "      <td>0</td>\n",
              "      <td>0</td>\n",
              "      <td>0</td>\n",
              "      <td>0</td>\n",
              "      <td>0</td>\n",
              "      <td>0</td>\n",
              "      <td>0</td>\n",
              "      <td>0</td>\n",
              "      <td>0</td>\n",
              "      <td>0</td>\n",
              "      <td>0</td>\n",
              "      <td>0</td>\n",
              "      <td>0</td>\n",
              "      <td>0</td>\n",
              "      <td>0</td>\n",
              "      <td>1</td>\n",
              "      <td>0</td>\n",
              "    </tr>\n",
              "    <tr>\n",
              "      <th>5</th>\n",
              "      <td>0</td>\n",
              "      <td>0</td>\n",
              "      <td>0</td>\n",
              "      <td>0</td>\n",
              "      <td>0</td>\n",
              "      <td>0</td>\n",
              "      <td>0</td>\n",
              "      <td>1</td>\n",
              "      <td>0</td>\n",
              "      <td>0</td>\n",
              "      <td>0</td>\n",
              "      <td>0</td>\n",
              "      <td>0</td>\n",
              "      <td>0</td>\n",
              "      <td>0</td>\n",
              "      <td>0</td>\n",
              "      <td>0</td>\n",
              "      <td>0</td>\n",
              "      <td>0</td>\n",
              "      <td>0</td>\n",
              "      <td>0</td>\n",
              "      <td>0</td>\n",
              "      <td>0</td>\n",
              "      <td>0</td>\n",
              "      <td>0</td>\n",
              "      <td>0</td>\n",
              "      <td>0</td>\n",
              "      <td>0</td>\n",
              "      <td>0</td>\n",
              "      <td>0</td>\n",
              "      <td>0</td>\n",
              "      <td>0</td>\n",
              "      <td>0</td>\n",
              "      <td>0</td>\n",
              "      <td>0</td>\n",
              "      <td>0</td>\n",
              "      <td>0</td>\n",
              "      <td>0</td>\n",
              "      <td>0</td>\n",
              "      <td>0</td>\n",
              "      <td>0</td>\n",
              "      <td>0</td>\n",
              "      <td>0</td>\n",
              "      <td>0</td>\n",
              "      <td>0</td>\n",
              "      <td>0</td>\n",
              "      <td>0</td>\n",
              "      <td>0</td>\n",
              "      <td>0</td>\n",
              "      <td>0</td>\n",
              "      <td>0</td>\n",
              "      <td>0</td>\n",
              "      <td>0</td>\n",
              "      <td>0</td>\n",
              "      <td>0</td>\n",
              "      <td>0</td>\n",
              "    </tr>\n",
              "    <tr>\n",
              "      <th>...</th>\n",
              "      <td>...</td>\n",
              "      <td>...</td>\n",
              "      <td>...</td>\n",
              "      <td>...</td>\n",
              "      <td>...</td>\n",
              "      <td>...</td>\n",
              "      <td>...</td>\n",
              "      <td>...</td>\n",
              "      <td>...</td>\n",
              "      <td>...</td>\n",
              "      <td>...</td>\n",
              "      <td>...</td>\n",
              "      <td>...</td>\n",
              "      <td>...</td>\n",
              "      <td>...</td>\n",
              "      <td>...</td>\n",
              "      <td>...</td>\n",
              "      <td>...</td>\n",
              "      <td>...</td>\n",
              "      <td>...</td>\n",
              "      <td>...</td>\n",
              "      <td>...</td>\n",
              "      <td>...</td>\n",
              "      <td>...</td>\n",
              "      <td>...</td>\n",
              "      <td>...</td>\n",
              "      <td>...</td>\n",
              "      <td>...</td>\n",
              "      <td>...</td>\n",
              "      <td>...</td>\n",
              "      <td>...</td>\n",
              "      <td>...</td>\n",
              "      <td>...</td>\n",
              "      <td>...</td>\n",
              "      <td>...</td>\n",
              "      <td>...</td>\n",
              "      <td>...</td>\n",
              "      <td>...</td>\n",
              "      <td>...</td>\n",
              "      <td>...</td>\n",
              "      <td>...</td>\n",
              "      <td>...</td>\n",
              "      <td>...</td>\n",
              "      <td>...</td>\n",
              "      <td>...</td>\n",
              "      <td>...</td>\n",
              "      <td>...</td>\n",
              "      <td>...</td>\n",
              "      <td>...</td>\n",
              "      <td>...</td>\n",
              "      <td>...</td>\n",
              "      <td>...</td>\n",
              "      <td>...</td>\n",
              "      <td>...</td>\n",
              "      <td>...</td>\n",
              "      <td>...</td>\n",
              "    </tr>\n",
              "    <tr>\n",
              "      <th>50638</th>\n",
              "      <td>0</td>\n",
              "      <td>0</td>\n",
              "      <td>0</td>\n",
              "      <td>0</td>\n",
              "      <td>0</td>\n",
              "      <td>0</td>\n",
              "      <td>0</td>\n",
              "      <td>0</td>\n",
              "      <td>0</td>\n",
              "      <td>0</td>\n",
              "      <td>0</td>\n",
              "      <td>0</td>\n",
              "      <td>0</td>\n",
              "      <td>0</td>\n",
              "      <td>0</td>\n",
              "      <td>0</td>\n",
              "      <td>0</td>\n",
              "      <td>0</td>\n",
              "      <td>0</td>\n",
              "      <td>0</td>\n",
              "      <td>0</td>\n",
              "      <td>0</td>\n",
              "      <td>0</td>\n",
              "      <td>0</td>\n",
              "      <td>0</td>\n",
              "      <td>0</td>\n",
              "      <td>0</td>\n",
              "      <td>0</td>\n",
              "      <td>0</td>\n",
              "      <td>0</td>\n",
              "      <td>0</td>\n",
              "      <td>0</td>\n",
              "      <td>0</td>\n",
              "      <td>0</td>\n",
              "      <td>0</td>\n",
              "      <td>0</td>\n",
              "      <td>0</td>\n",
              "      <td>0</td>\n",
              "      <td>0</td>\n",
              "      <td>0</td>\n",
              "      <td>0</td>\n",
              "      <td>0</td>\n",
              "      <td>0</td>\n",
              "      <td>0</td>\n",
              "      <td>0</td>\n",
              "      <td>0</td>\n",
              "      <td>0</td>\n",
              "      <td>0</td>\n",
              "      <td>0</td>\n",
              "      <td>0</td>\n",
              "      <td>0</td>\n",
              "      <td>0</td>\n",
              "      <td>0</td>\n",
              "      <td>0</td>\n",
              "      <td>1</td>\n",
              "      <td>0</td>\n",
              "    </tr>\n",
              "    <tr>\n",
              "      <th>50639</th>\n",
              "      <td>0</td>\n",
              "      <td>0</td>\n",
              "      <td>0</td>\n",
              "      <td>0</td>\n",
              "      <td>0</td>\n",
              "      <td>0</td>\n",
              "      <td>0</td>\n",
              "      <td>0</td>\n",
              "      <td>0</td>\n",
              "      <td>0</td>\n",
              "      <td>0</td>\n",
              "      <td>0</td>\n",
              "      <td>0</td>\n",
              "      <td>0</td>\n",
              "      <td>0</td>\n",
              "      <td>0</td>\n",
              "      <td>0</td>\n",
              "      <td>0</td>\n",
              "      <td>0</td>\n",
              "      <td>0</td>\n",
              "      <td>0</td>\n",
              "      <td>0</td>\n",
              "      <td>0</td>\n",
              "      <td>0</td>\n",
              "      <td>0</td>\n",
              "      <td>0</td>\n",
              "      <td>0</td>\n",
              "      <td>0</td>\n",
              "      <td>0</td>\n",
              "      <td>0</td>\n",
              "      <td>0</td>\n",
              "      <td>0</td>\n",
              "      <td>0</td>\n",
              "      <td>0</td>\n",
              "      <td>0</td>\n",
              "      <td>0</td>\n",
              "      <td>0</td>\n",
              "      <td>0</td>\n",
              "      <td>0</td>\n",
              "      <td>0</td>\n",
              "      <td>0</td>\n",
              "      <td>0</td>\n",
              "      <td>0</td>\n",
              "      <td>0</td>\n",
              "      <td>0</td>\n",
              "      <td>0</td>\n",
              "      <td>0</td>\n",
              "      <td>0</td>\n",
              "      <td>0</td>\n",
              "      <td>0</td>\n",
              "      <td>0</td>\n",
              "      <td>0</td>\n",
              "      <td>0</td>\n",
              "      <td>0</td>\n",
              "      <td>1</td>\n",
              "      <td>0</td>\n",
              "    </tr>\n",
              "    <tr>\n",
              "      <th>50648</th>\n",
              "      <td>0</td>\n",
              "      <td>0</td>\n",
              "      <td>0</td>\n",
              "      <td>0</td>\n",
              "      <td>0</td>\n",
              "      <td>0</td>\n",
              "      <td>0</td>\n",
              "      <td>0</td>\n",
              "      <td>0</td>\n",
              "      <td>0</td>\n",
              "      <td>0</td>\n",
              "      <td>0</td>\n",
              "      <td>0</td>\n",
              "      <td>0</td>\n",
              "      <td>0</td>\n",
              "      <td>0</td>\n",
              "      <td>0</td>\n",
              "      <td>0</td>\n",
              "      <td>0</td>\n",
              "      <td>0</td>\n",
              "      <td>0</td>\n",
              "      <td>0</td>\n",
              "      <td>0</td>\n",
              "      <td>0</td>\n",
              "      <td>0</td>\n",
              "      <td>0</td>\n",
              "      <td>0</td>\n",
              "      <td>0</td>\n",
              "      <td>0</td>\n",
              "      <td>0</td>\n",
              "      <td>0</td>\n",
              "      <td>1</td>\n",
              "      <td>0</td>\n",
              "      <td>0</td>\n",
              "      <td>0</td>\n",
              "      <td>0</td>\n",
              "      <td>0</td>\n",
              "      <td>0</td>\n",
              "      <td>0</td>\n",
              "      <td>0</td>\n",
              "      <td>0</td>\n",
              "      <td>0</td>\n",
              "      <td>0</td>\n",
              "      <td>0</td>\n",
              "      <td>0</td>\n",
              "      <td>0</td>\n",
              "      <td>0</td>\n",
              "      <td>0</td>\n",
              "      <td>0</td>\n",
              "      <td>0</td>\n",
              "      <td>0</td>\n",
              "      <td>0</td>\n",
              "      <td>0</td>\n",
              "      <td>0</td>\n",
              "      <td>0</td>\n",
              "      <td>0</td>\n",
              "    </tr>\n",
              "    <tr>\n",
              "      <th>50649</th>\n",
              "      <td>0</td>\n",
              "      <td>0</td>\n",
              "      <td>0</td>\n",
              "      <td>0</td>\n",
              "      <td>0</td>\n",
              "      <td>1</td>\n",
              "      <td>0</td>\n",
              "      <td>0</td>\n",
              "      <td>0</td>\n",
              "      <td>0</td>\n",
              "      <td>0</td>\n",
              "      <td>0</td>\n",
              "      <td>0</td>\n",
              "      <td>0</td>\n",
              "      <td>0</td>\n",
              "      <td>0</td>\n",
              "      <td>0</td>\n",
              "      <td>0</td>\n",
              "      <td>0</td>\n",
              "      <td>0</td>\n",
              "      <td>0</td>\n",
              "      <td>0</td>\n",
              "      <td>0</td>\n",
              "      <td>0</td>\n",
              "      <td>0</td>\n",
              "      <td>0</td>\n",
              "      <td>0</td>\n",
              "      <td>0</td>\n",
              "      <td>0</td>\n",
              "      <td>0</td>\n",
              "      <td>0</td>\n",
              "      <td>0</td>\n",
              "      <td>0</td>\n",
              "      <td>0</td>\n",
              "      <td>0</td>\n",
              "      <td>0</td>\n",
              "      <td>0</td>\n",
              "      <td>0</td>\n",
              "      <td>0</td>\n",
              "      <td>0</td>\n",
              "      <td>0</td>\n",
              "      <td>0</td>\n",
              "      <td>0</td>\n",
              "      <td>0</td>\n",
              "      <td>0</td>\n",
              "      <td>0</td>\n",
              "      <td>0</td>\n",
              "      <td>0</td>\n",
              "      <td>0</td>\n",
              "      <td>0</td>\n",
              "      <td>0</td>\n",
              "      <td>0</td>\n",
              "      <td>0</td>\n",
              "      <td>0</td>\n",
              "      <td>0</td>\n",
              "      <td>0</td>\n",
              "    </tr>\n",
              "    <tr>\n",
              "      <th>50650</th>\n",
              "      <td>0</td>\n",
              "      <td>0</td>\n",
              "      <td>0</td>\n",
              "      <td>0</td>\n",
              "      <td>0</td>\n",
              "      <td>1</td>\n",
              "      <td>0</td>\n",
              "      <td>0</td>\n",
              "      <td>0</td>\n",
              "      <td>0</td>\n",
              "      <td>0</td>\n",
              "      <td>0</td>\n",
              "      <td>0</td>\n",
              "      <td>0</td>\n",
              "      <td>0</td>\n",
              "      <td>0</td>\n",
              "      <td>0</td>\n",
              "      <td>0</td>\n",
              "      <td>0</td>\n",
              "      <td>0</td>\n",
              "      <td>0</td>\n",
              "      <td>0</td>\n",
              "      <td>0</td>\n",
              "      <td>0</td>\n",
              "      <td>0</td>\n",
              "      <td>0</td>\n",
              "      <td>0</td>\n",
              "      <td>0</td>\n",
              "      <td>0</td>\n",
              "      <td>0</td>\n",
              "      <td>0</td>\n",
              "      <td>0</td>\n",
              "      <td>0</td>\n",
              "      <td>0</td>\n",
              "      <td>0</td>\n",
              "      <td>0</td>\n",
              "      <td>0</td>\n",
              "      <td>0</td>\n",
              "      <td>0</td>\n",
              "      <td>0</td>\n",
              "      <td>0</td>\n",
              "      <td>0</td>\n",
              "      <td>0</td>\n",
              "      <td>0</td>\n",
              "      <td>0</td>\n",
              "      <td>0</td>\n",
              "      <td>0</td>\n",
              "      <td>0</td>\n",
              "      <td>0</td>\n",
              "      <td>0</td>\n",
              "      <td>0</td>\n",
              "      <td>0</td>\n",
              "      <td>0</td>\n",
              "      <td>0</td>\n",
              "      <td>0</td>\n",
              "      <td>0</td>\n",
              "    </tr>\n",
              "  </tbody>\n",
              "</table>\n",
              "<p>33472 rows × 56 columns</p>\n",
              "</div>"
            ],
            "text/plain": [
              "       dum_b'Agronom\\xeda'  ...  dum_Villa del Parque\n",
              "0                        0  ...                     0\n",
              "1                        0  ...                     0\n",
              "2                        0  ...                     0\n",
              "4                        0  ...                     0\n",
              "5                        0  ...                     0\n",
              "...                    ...  ...                   ...\n",
              "50638                    0  ...                     0\n",
              "50639                    0  ...                     0\n",
              "50648                    0  ...                     0\n",
              "50649                    0  ...                     0\n",
              "50650                    0  ...                     0\n",
              "\n",
              "[33472 rows x 56 columns]"
            ]
          },
          "metadata": {
            "tags": []
          },
          "execution_count": 36
        }
      ]
    },
    {
      "cell_type": "code",
      "metadata": {
        "id": "C4VsZ4bdEeT2",
        "outputId": "b207443f-aa9f-4d42-9777-dfd2ca3d696e",
        "colab": {
          "base_uri": "https://localhost:8080/"
        }
      },
      "source": [
        "dummiesbarrios.columns"
      ],
      "execution_count": 61,
      "outputs": [
        {
          "output_type": "execute_result",
          "data": {
            "text/plain": [
              "Index(['dum_b'Agronom\\xeda'', 'dum_b'Constituci\\xf3n'',\n",
              "       'dum_b'Las Ca\\xf1itas'', 'dum_b'Nu\\xf1ez'', 'dum_b'San Nicol\\xe1s'',\n",
              "       'dum_b'Villa Pueyrred\\xf3n'', 'dum_Abasto', 'dum_Almagro',\n",
              "       'dum_Balvanera', 'dum_Barracas', 'dum_Barrio Norte', 'dum_Belgrano',\n",
              "       'dum_Boca', 'dum_Boedo', 'dum_Caballito', 'dum_Catalinas',\n",
              "       'dum_Centro / Microcentro', 'dum_Chacarita', 'dum_Coghlan',\n",
              "       'dum_Colegiales', 'dum_Congreso', 'dum_Flores', 'dum_Floresta',\n",
              "       'dum_Liniers', 'dum_Mataderos', 'dum_Monserrat', 'dum_Monte Castro',\n",
              "       'dum_Once', 'dum_Palermo', 'dum_Parque Avellaneda',\n",
              "       'dum_Parque Centenario', 'dum_Parque Chacabuco', 'dum_Parque Chas',\n",
              "       'dum_Parque Patricios', 'dum_Paternal', 'dum_Pompeya',\n",
              "       'dum_Puerto Madero', 'dum_Recoleta', 'dum_Retiro', 'dum_Saavedra',\n",
              "       'dum_San Cristobal', 'dum_San Telmo', 'dum_Tribunales',\n",
              "       'dum_Velez Sarsfield', 'dum_Versalles', 'dum_Villa Crespo',\n",
              "       'dum_Villa Devoto', 'dum_Villa General Mitre', 'dum_Villa Lugano',\n",
              "       'dum_Villa Luro', 'dum_Villa Ortuzar', 'dum_Villa Real',\n",
              "       'dum_Villa Riachuelo', 'dum_Villa Santa Rita', 'dum_Villa Urquiza',\n",
              "       'dum_Villa del Parque'],\n",
              "      dtype='object')"
            ]
          },
          "metadata": {
            "tags": []
          },
          "execution_count": 61
        }
      ]
    },
    {
      "cell_type": "code",
      "metadata": {
        "id": "tbiZMyhiiPIv"
      },
      "source": [
        "departamentosCABA=pd.concat([departamentosCABA, dummiesbarrios],axis=1)"
      ],
      "execution_count": 37,
      "outputs": []
    },
    {
      "cell_type": "markdown",
      "metadata": {
        "id": "cfV_aUmViypD"
      },
      "source": [
        "#Estimacion del Modelo con dummys\n",
        "\n",
        "\n"
      ]
    },
    {
      "cell_type": "code",
      "metadata": {
        "colab": {
          "base_uri": "https://localhost:8080/"
        },
        "id": "18PMvKiQ4mwS",
        "outputId": "179ca9e1-645e-4fa7-ae97-64b78a81a277"
      },
      "source": [
        "resultados=regress(['price', 'bedrooms','dum_Liniers', 'dum_Mataderos', 'dum_Monserrat', 'dum_Monte Castro',\n",
        "       'dum_Once', 'dum_Palermo', 'dum_Parque Avellaneda',\n",
        "       'dum_Parque Centenario', 'dum_Parque Chacabuco', 'dum_Parque Chas',\n",
        "       'dum_Parque Patricios', 'dum_Paternal', 'dum_Pompeya',\n",
        "       'dum_Puerto Madero', 'dum_Recoleta', 'dum_Retiro', 'dum_Saavedra',\n",
        "       'dum_San Cristobal', 'dum_San Telmo', 'dum_Tribunales',\n",
        "       'dum_Velez Sarsfield', 'dum_Versalles', 'dum_Villa Crespo',\n",
        "       'dum_Villa Devoto', 'dum_Villa General Mitre', 'dum_Villa Lugano',\n",
        "       'dum_Villa Luro', 'dum_Villa Ortuzar', 'dum_Villa Real',\n",
        "       'dum_Villa Riachuelo', 'dum_Villa Santa Rita', 'dum_Villa Urquiza'],departamentosCABA)"
      ],
      "execution_count": 62,
      "outputs": [
        {
          "output_type": "stream",
          "text": [
            "                            OLS Regression Results                            \n",
            "==============================================================================\n",
            "Dep. Variable:                  price   R-squared:                       0.032\n",
            "Model:                            OLS   Adj. R-squared:                  0.030\n",
            "Method:                 Least Squares   F-statistic:                     19.31\n",
            "Date:                Thu, 08 Jul 2021   Prob (F-statistic):          5.36e-111\n",
            "Time:                        21:44:58   Log-Likelihood:            -2.1586e+05\n",
            "No. Observations:               19381   AIC:                         4.318e+05\n",
            "Df Residuals:                   19347   BIC:                         4.321e+05\n",
            "Df Model:                          33                                         \n",
            "Covariance Type:            nonrobust                                         \n",
            "===========================================================================================\n",
            "                              coef    std err          t      P>|t|      [0.025      0.975]\n",
            "-------------------------------------------------------------------------------------------\n",
            "const                    1.342e+04    289.749     46.315      0.000    1.29e+04     1.4e+04\n",
            "bedrooms                 3172.2844    141.608     22.402      0.000    2894.721    3449.848\n",
            "dum_Liniers             -3521.0040   1505.916     -2.338      0.019   -6472.730    -569.278\n",
            "dum_Mataderos           -4798.3104   2041.536     -2.350      0.019   -8799.897    -796.724\n",
            "dum_Monserrat           -1968.1447   1379.704     -1.426      0.154   -4672.485     736.195\n",
            "dum_Monte Castro        -3298.3795   2121.482     -1.555      0.120   -7456.667     859.908\n",
            "dum_Once                -3297.2802   1193.321     -2.763      0.006   -5636.292    -958.268\n",
            "dum_Palermo               307.0296    319.962      0.960      0.337    -320.124     934.183\n",
            "dum_Parque Avellaneda   -4215.2805   5265.270     -0.801      0.423   -1.45e+04    6105.104\n",
            "dum_Parque Centenario    -350.6570   1917.455     -0.183      0.855   -4109.034    3407.720\n",
            "dum_Parque Chacabuco    -2528.7234   1626.720     -1.554      0.120   -5717.235     659.788\n",
            "dum_Parque Chas         -2137.8524   3043.839     -0.702      0.482   -8104.040    3828.335\n",
            "dum_Parque Patricios    -2101.4780   2292.923     -0.917      0.359   -6595.805    2392.849\n",
            "dum_Paternal            -3048.6715   1512.189     -2.016      0.044   -6012.693     -84.650\n",
            "dum_Pompeya             -5637.8524   4300.597     -1.311      0.190   -1.41e+04    2791.690\n",
            "dum_Puerto Madero       -1157.6777    568.213     -2.037      0.042   -2271.425     -43.930\n",
            "dum_Recoleta              511.5479    417.143      1.226      0.220    -306.089    1329.185\n",
            "dum_Retiro               1670.4688    867.241      1.926      0.054     -29.398    3370.336\n",
            "dum_Saavedra             -538.5082   1389.322     -0.388      0.698   -3261.699    2184.683\n",
            "dum_San Cristobal       -2488.8157   1253.772     -1.985      0.047   -4946.317     -31.314\n",
            "dum_San Telmo             384.3641   1004.832      0.383      0.702   -1585.194    2353.922\n",
            "dum_Tribunales          -2854.6646   2487.165     -1.148      0.251   -7729.723    2020.394\n",
            "dum_Velez Sarsfield     -5080.3617   4807.147     -1.057      0.291   -1.45e+04    4342.062\n",
            "dum_Versalles           -4023.0098   3207.580     -1.254      0.210   -1.03e+04    2264.125\n",
            "dum_Villa Crespo         -511.3806    682.665     -0.749      0.454   -1849.463     826.701\n",
            "dum_Villa Devoto         -564.9489   1154.769     -0.489      0.625   -2828.397    1698.499\n",
            "dum_Villa General Mitre -1167.3383   2903.140     -0.402      0.688   -6857.745    4523.068\n",
            "dum_Villa Lugano        -7553.2425   2155.835     -3.504      0.000   -1.18e+04   -3327.620\n",
            "dum_Villa Luro          -3916.6086   1814.384     -2.159      0.031   -7472.958    -360.259\n",
            "dum_Villa Ortuzar        -343.7417   2460.433     -0.140      0.889   -5166.403    4478.920\n",
            "dum_Villa Real          -4226.0882   4164.439     -1.015      0.310   -1.24e+04    3936.572\n",
            "dum_Villa Riachuelo     -5882.6713   9609.150     -0.612      0.540   -2.47e+04     1.3e+04\n",
            "dum_Villa Santa Rita    -2311.9419   2818.557     -0.820      0.412   -7836.557    3212.673\n",
            "dum_Villa Urquiza        1095.5838    671.994      1.630      0.103    -221.582    2412.750\n",
            "==============================================================================\n",
            "Omnibus:                    24803.746   Durbin-Watson:                   1.886\n",
            "Prob(Omnibus):                  0.000   Jarque-Bera (JB):         17909522.899\n",
            "Skew:                           6.546   Prob(JB):                         0.00\n",
            "Kurtosis:                     151.346   Cond. No.                         169.\n",
            "==============================================================================\n",
            "\n",
            "Warnings:\n",
            "[1] Standard Errors assume that the covariance matrix of the errors is correctly specified.\n"
          ],
          "name": "stdout"
        }
      ]
    },
    {
      "cell_type": "markdown",
      "metadata": {
        "id": "WKjbMGU0xeMR"
      },
      "source": [
        "#Estimacion del Modelo Multivariado\n",
        "\n",
        "Modelo propuesto:\n",
        "\n",
        "$price_i=\\beta_0+\\beta_1*bedrooms_i+\\beta_2*surface+\\epsilon_i$"
      ]
    },
    {
      "cell_type": "code",
      "metadata": {
        "id": "rYs8TItl8Y2w",
        "outputId": "4fc2b4bb-e9db-43c8-b318-b0636b36699c",
        "colab": {
          "base_uri": "https://localhost:8080/"
        }
      },
      "source": [
        "regress(['price', 'bedrooms'],departamentosCABA)"
      ],
      "execution_count": 56,
      "outputs": [
        {
          "output_type": "stream",
          "text": [
            "                            OLS Regression Results                            \n",
            "==============================================================================\n",
            "Dep. Variable:                  price   R-squared:                       0.028\n",
            "Model:                            OLS   Adj. R-squared:                  0.028\n",
            "Method:                 Least Squares   F-statistic:                     560.8\n",
            "Date:                Thu, 08 Jul 2021   Prob (F-statistic):          3.09e-122\n",
            "Time:                        21:06:37   Log-Likelihood:            -2.1590e+05\n",
            "No. Observations:               19381   AIC:                         4.318e+05\n",
            "Df Residuals:                   19379   BIC:                         4.318e+05\n",
            "Df Model:                           1                                         \n",
            "Covariance Type:            nonrobust                                         \n",
            "==============================================================================\n",
            "                 coef    std err          t      P>|t|      [0.025      0.975]\n",
            "------------------------------------------------------------------------------\n",
            "const       1.313e+04    259.177     50.675      0.000    1.26e+04    1.36e+04\n",
            "bedrooms    3265.2581    137.887     23.681      0.000    2994.988    3535.528\n",
            "==============================================================================\n",
            "Omnibus:                    24718.503   Durbin-Watson:                   1.884\n",
            "Prob(Omnibus):                  0.000   Jarque-Bera (JB):         17580344.349\n",
            "Skew:                           6.507   Prob(JB):                         0.00\n",
            "Kurtosis:                     149.972   Cond. No.                         5.02\n",
            "==============================================================================\n",
            "\n",
            "Warnings:\n",
            "[1] Standard Errors assume that the covariance matrix of the errors is correctly specified.\n"
          ],
          "name": "stdout"
        },
        {
          "output_type": "execute_result",
          "data": {
            "text/plain": [
              "<statsmodels.regression.linear_model.RegressionResultsWrapper at 0x7fd3459fca10>"
            ]
          },
          "metadata": {
            "tags": []
          },
          "execution_count": 56
        }
      ]
    },
    {
      "cell_type": "code",
      "metadata": {
        "id": "VkmupEVngA3S",
        "colab": {
          "base_uri": "https://localhost:8080/"
        },
        "outputId": "3d48143a-44df-4b02-b0e3-e08d4e38e0fd"
      },
      "source": [
        "regress(['price', 'surface_to'],departamentosCABA)"
      ],
      "execution_count": 50,
      "outputs": [
        {
          "output_type": "stream",
          "text": [
            "                            OLS Regression Results                            \n",
            "==============================================================================\n",
            "Dep. Variable:                  price   R-squared:                       0.002\n",
            "Model:                            OLS   Adj. R-squared:                  0.002\n",
            "Method:                 Least Squares   F-statistic:                     66.70\n",
            "Date:                Thu, 08 Jul 2021   Prob (F-statistic):           3.27e-16\n",
            "Time:                        20:53:06   Log-Likelihood:            -3.7416e+05\n",
            "No. Observations:               33472   AIC:                         7.483e+05\n",
            "Df Residuals:                   33470   BIC:                         7.483e+05\n",
            "Df Model:                           1                                         \n",
            "Covariance Type:            nonrobust                                         \n",
            "==============================================================================\n",
            "                 coef    std err          t      P>|t|      [0.025      0.975]\n",
            "------------------------------------------------------------------------------\n",
            "const       1.825e+04    101.752    179.337      0.000     1.8e+04    1.84e+04\n",
            "surface_to     3.9152      0.479      8.167      0.000       2.976       4.855\n",
            "==============================================================================\n",
            "Omnibus:                    66165.648   Durbin-Watson:                   1.899\n",
            "Prob(Omnibus):                  0.000   Jarque-Bera (JB):        911326962.875\n",
            "Skew:                          15.225   Prob(JB):                         0.00\n",
            "Kurtosis:                     810.781   Cond. No.                         228.\n",
            "==============================================================================\n",
            "\n",
            "Warnings:\n",
            "[1] Standard Errors assume that the covariance matrix of the errors is correctly specified.\n"
          ],
          "name": "stdout"
        },
        {
          "output_type": "execute_result",
          "data": {
            "text/plain": [
              "<statsmodels.regression.linear_model.RegressionResultsWrapper at 0x7fd3459ef310>"
            ]
          },
          "metadata": {
            "tags": []
          },
          "execution_count": 50
        }
      ]
    },
    {
      "cell_type": "code",
      "metadata": {
        "id": "swCa6Gopfg8L",
        "colab": {
          "base_uri": "https://localhost:8080/"
        },
        "outputId": "0c36e393-4801-4c68-d74a-b68afe3e0ccd"
      },
      "source": [
        "regress(['price', 'bedrooms','surface_to'],departamentosCABA)"
      ],
      "execution_count": 54,
      "outputs": [
        {
          "output_type": "stream",
          "text": [
            "                            OLS Regression Results                            \n",
            "==============================================================================\n",
            "Dep. Variable:                  price   R-squared:                       0.028\n",
            "Model:                            OLS   Adj. R-squared:                  0.028\n",
            "Method:                 Least Squares   F-statistic:                     281.5\n",
            "Date:                Thu, 08 Jul 2021   Prob (F-statistic):          3.10e-121\n",
            "Time:                        21:05:09   Log-Likelihood:            -2.1590e+05\n",
            "No. Observations:               19381   AIC:                         4.318e+05\n",
            "Df Residuals:                   19378   BIC:                         4.318e+05\n",
            "Df Model:                           2                                         \n",
            "Covariance Type:            nonrobust                                         \n",
            "==============================================================================\n",
            "                 coef    std err          t      P>|t|      [0.025      0.975]\n",
            "------------------------------------------------------------------------------\n",
            "const       1.313e+04    259.172     50.670      0.000    1.26e+04    1.36e+04\n",
            "bedrooms    3304.5656    140.435     23.531      0.000    3029.301    3579.830\n",
            "surface_to    -0.7187      0.487     -1.475      0.140      -1.674       0.237\n",
            "==============================================================================\n",
            "Omnibus:                    24727.655   Durbin-Watson:                   1.884\n",
            "Prob(Omnibus):                  0.000   Jarque-Bera (JB):         17597710.815\n",
            "Skew:                           6.511   Prob(JB):                         0.00\n",
            "Kurtosis:                     150.045   Cond. No.                         639.\n",
            "==============================================================================\n",
            "\n",
            "Warnings:\n",
            "[1] Standard Errors assume that the covariance matrix of the errors is correctly specified.\n"
          ],
          "name": "stdout"
        },
        {
          "output_type": "execute_result",
          "data": {
            "text/plain": [
              "<statsmodels.regression.linear_model.RegressionResultsWrapper at 0x7fd345a67e90>"
            ]
          },
          "metadata": {
            "tags": []
          },
          "execution_count": 54
        }
      ]
    },
    {
      "cell_type": "code",
      "metadata": {
        "id": "vq0bhKVf8OLd",
        "outputId": "f802e110-6a7f-4016-f4f3-1fec6f1eff5d",
        "colab": {
          "base_uri": "https://localhost:8080/",
          "height": 110
        }
      },
      "source": [
        "departamentos[['bedrooms','surface_to']].corr()"
      ],
      "execution_count": 55,
      "outputs": [
        {
          "output_type": "execute_result",
          "data": {
            "text/html": [
              "<div>\n",
              "<style scoped>\n",
              "    .dataframe tbody tr th:only-of-type {\n",
              "        vertical-align: middle;\n",
              "    }\n",
              "\n",
              "    .dataframe tbody tr th {\n",
              "        vertical-align: top;\n",
              "    }\n",
              "\n",
              "    .dataframe thead th {\n",
              "        text-align: right;\n",
              "    }\n",
              "</style>\n",
              "<table border=\"1\" class=\"dataframe\">\n",
              "  <thead>\n",
              "    <tr style=\"text-align: right;\">\n",
              "      <th></th>\n",
              "      <th>bedrooms</th>\n",
              "      <th>surface_to</th>\n",
              "    </tr>\n",
              "  </thead>\n",
              "  <tbody>\n",
              "    <tr>\n",
              "      <th>bedrooms</th>\n",
              "      <td>1.000000</td>\n",
              "      <td>0.185127</td>\n",
              "    </tr>\n",
              "    <tr>\n",
              "      <th>surface_to</th>\n",
              "      <td>0.185127</td>\n",
              "      <td>1.000000</td>\n",
              "    </tr>\n",
              "  </tbody>\n",
              "</table>\n",
              "</div>"
            ],
            "text/plain": [
              "            bedrooms  surface_to\n",
              "bedrooms    1.000000    0.185127\n",
              "surface_to  0.185127    1.000000"
            ]
          },
          "metadata": {
            "tags": []
          },
          "execution_count": 55
        }
      ]
    }
  ]
}